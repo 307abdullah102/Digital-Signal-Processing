{
 "cells": [
  {
   "cell_type": "markdown",
   "id": "hollow-madonna",
   "metadata": {},
   "source": [
    "# İsim Soyisim: Abdullah MEMİŞOĞLU\n",
    "# Öğrenci Numarası: 171024001"
   ]
  },
  {
   "cell_type": "markdown",
   "id": "extraordinary-program",
   "metadata": {},
   "source": [
    "\n",
    "# ÖDEV-2 -- SORU-6\n",
    "\n",
    "## 6-a) 18 - (a) sinyalinin çizimi "
   ]
  },
  {
   "cell_type": "code",
   "execution_count": 1,
   "id": "manufactured-federal",
   "metadata": {},
   "outputs": [],
   "source": [
    "import numpy as np\n",
    "import matplotlib.pyplot as plt \n",
    "import math\n",
    "#%matplotlib notebook"
   ]
  },
  {
   "cell_type": "code",
   "execution_count": 33,
   "id": "mineral-wrestling",
   "metadata": {},
   "outputs": [
    {
     "data": {
      "text/plain": [
       "Text(0.5, 1.0, '$h[n] = (\\\\frac{1}{2})^{n}*u[n]$')"
      ]
     },
     "execution_count": 33,
     "metadata": {},
     "output_type": "execute_result"
    },
    {
     "data": {
      "image/png": "[encoded data removed]",
      "text/plain": [
       "<Figure size 432x288 with 1 Axes>"
      ]
     },
     "metadata": {
      "needs_background": "light"
     },
     "output_type": "display_data"
    }
   ],
   "source": [
    "EXTREME_VALUE = 8\n",
    "n = np.arange(-EXTREME_VALUE,EXTREME_VALUE+0.1,1)\n",
    "h = np.zeros(len(n))\n",
    "\n",
    "for i in range(len(n)):\n",
    "    #negatif bölgeyi gösterebilmek ve h listesini pozitif indeksli tutabilmek için \n",
    "    # i-8 olarak yazılmıştır. 0<i<16 değerlerinde h[n] -8<n<8 olarak doldurulabilmiştir.\n",
    "    h[i] = ((1/2)**(i-EXTREME_VALUE))*np.heaviside((i-EXTREME_VALUE),1)\n",
    "\n",
    "\n",
    "plt.stem(n, h,  use_line_collection=True)\n",
    "\n",
    "\n",
    "plt.xticks(np.arange(n[0],n[-1],1))     \n",
    "\n",
    "plt.xlabel('n',  fontsize='20')  \n",
    "plt.ylabel('h[n]',  fontsize='20')  \n",
    "\n",
    "# title of plot\n",
    "plt.title(r'$h[n] = (\\frac{1}{2})^{n}*u[n]$', fontsize='20') "
   ]
  },
  {
   "cell_type": "markdown",
   "id": "attempted-bradley",
   "metadata": {},
   "source": [
    "### $u[n]$ fonksiyonu $n < 0$  için $h[n] = 0$ eşitliğini sağlarken $n > 0$ değerleri için $(\\frac{1}{2})^n$ n'in artışı ile azalan bir fonksiyon gözlenir."
   ]
  },
  {
   "cell_type": "markdown",
   "id": "small-salad",
   "metadata": {},
   "source": [
    "## 6-b) 18 - (c) sinyalinin çizimi "
   ]
  },
  {
   "cell_type": "code",
   "execution_count": 36,
   "id": "decreased-appointment",
   "metadata": {},
   "outputs": [
    {
     "data": {
      "text/plain": [
       "Text(0.5, 1.0, '$h[n] = (\\\\frac{1}{2})^{|n|}$')"
      ]
     },
     "execution_count": 36,
     "metadata": {},
     "output_type": "execute_result"
    },
    {
     "data": {
      "image/png": "[encoded data removed]",
      "text/plain": [
       "<Figure size 432x288 with 1 Axes>"
      ]
     },
     "metadata": {
      "needs_background": "light"
     },
     "output_type": "display_data"
    }
   ],
   "source": [
    "EXTREME_VALUE = 8\n",
    "n = np.arange(-EXTREME_VALUE,EXTREME_VALUE+0.1,1)\n",
    "h = np.zeros(len(n))\n",
    "\n",
    "for i in range(len(n)):\n",
    "    x = abs(i-EXTREME_VALUE)\n",
    "    h[i] = ((1/2)**(x))\n",
    "\n",
    "\n",
    "plt.stem(n, h,  use_line_collection=True)\n",
    "\n",
    "# x eksenindeki sayıların karmaşıklığını engellemek için her 3 birimde bir yazdırmayı sağlar.\n",
    "plt.xticks(np.arange(n[0],n[-1],1))     \n",
    "\n",
    "plt.xlabel('n',  fontsize='20')  \n",
    "plt.ylabel('h[n]',  fontsize='20')  \n",
    "\n",
    "# title of plot\n",
    "plt.title(r'$h[n] = (\\frac{1}{2})^{|n|}$', fontsize='20') "
   ]
  },
  {
   "cell_type": "markdown",
   "id": "smoking-hamburg",
   "metadata": {},
   "source": [
    "### $\\frac {1}{2} ^{|n|}$ sinyalinde n'in her değeri için $ |n| \\geq 0 $ olduğundan ve  $\\frac {1}{2} \\leq 1 $ olduğundan sinyal n = 0 için tepe değeri alır ve |n| in birim artışı ile sinyal $\\frac {1}{2}$ oran ile azalır.\n",
    "i"
   ]
  },
  {
   "cell_type": "markdown",
   "id": "manufactured-harvey",
   "metadata": {},
   "source": [
    "## 6-c) 18 - (e) sinyalinin çizimi "
   ]
  },
  {
   "cell_type": "code",
   "execution_count": 72,
   "id": "fiscal-gross",
   "metadata": {},
   "outputs": [
    {
     "data": {
      "text/plain": [
       "Text(0.5, 1.0, '$h[n] = (\\\\frac{1}{3})^{n}*u[n] + (3)^{n}*u[-n-1]$')"
      ]
     },
     "execution_count": 72,
     "metadata": {},
     "output_type": "execute_result"
    },
    {
     "data": {
      "image/png": "[encoded data removed]",
      "text/plain": [
       "<Figure size 432x288 with 1 Axes>"
      ]
     },
     "metadata": {
      "needs_background": "light"
     },
     "output_type": "display_data"
    }
   ],
   "source": [
    "EXTREME_VALUE = 8\n",
    "n = np.arange(-EXTREME_VALUE,EXTREME_VALUE+0.1,1)\n",
    "h = np.zeros(len(n))\n",
    "\n",
    "for i in range(len(n)):\n",
    "    h[i] = ((1/3)**(i-EXTREME_VALUE))*np.heaviside((i-EXTREME_VALUE),1) + ((3)**(i-EXTREME_VALUE))*np.heaviside((-1-(i-EXTREME_VALUE)),1)\n",
    "\n",
    "\n",
    "plt.stem(n, h,  use_line_collection=True)\n",
    "\n",
    "# x eksenindeki sayıların karmaşıklığını engellemek için her 3 birimde bir yazdırmayı sağlar.\n",
    "plt.xticks(np.arange(n[0],n[-1],1))     \n",
    "\n",
    "plt.xlabel('n',  fontsize='20')  \n",
    "plt.ylabel('h[n]',  fontsize='20')  \n",
    "\n",
    "# title of plot\n",
    "plt.title(r'$h[n] = (\\frac{1}{3})^{n}*u[n] + (3)^{n}*u[-n-1]$', fontsize='20') "
   ]
  },
  {
   "cell_type": "markdown",
   "id": "sophisticated-quality",
   "metadata": {},
   "source": [
    "### 6-a da elde edilen sinyalin y-eksenine göre simetriği alındığında 6-b sinyalinin elde edildiği görülmektedir. Böylece birim basamak fonksiyonu kullanılarak $ h[n] = a^{|n|}$ formatında bir sinyal elde edilebilmektedir. 6-c probleminde bu gösterim amaçlanmıştır. Burada n = 0'ın pozitif değerleri için 6-a'daki sinyal formatı kullanılırken, negatif bölge için $ n \\Rightarrow -n$ ile mutlaklık sağlanmıştır. n'in negatif bölgesindeki değerleri görebilmek için birim basamak fonksiyonu u[-n-1] olarak güncellenmiştir.  "
   ]
  },
  {
   "cell_type": "markdown",
   "id": "simplified-branch",
   "metadata": {},
   "source": [
    "\n",
    "# ÖDEV-2 -- SORU-7\n",
    "\n",
    "## 7-a) 19 - (a) sinyalinin çizimi \n"
   ]
  },
  {
   "cell_type": "code",
   "execution_count": 52,
   "id": "viral-luxembourg",
   "metadata": {},
   "outputs": [
    {
     "name": "stdout",
     "output_type": "stream",
     "text": [
      "h[n]: [  0.   0.   0.   0.   1.   4.  16.  64. 256.] \n"
     ]
    },
    {
     "data": {
      "image/png": "[encoded data removed]",
      "text/plain": [
       "<Figure size 432x288 with 1 Axes>"
      ]
     },
     "metadata": {
      "needs_background": "light"
     },
     "output_type": "display_data"
    }
   ],
   "source": [
    "EXTREME_VALUE = 4\n",
    "n = np.arange(-EXTREME_VALUE,EXTREME_VALUE+0.1,1)\n",
    "h = np.zeros(len(n))\n",
    "\n",
    "for i in range(len(n)):\n",
    "    h[i] = ((4)**(i-EXTREME_VALUE))*np.heaviside((i-EXTREME_VALUE),1)\n",
    "\n",
    "\n",
    "plt.stem(n, h,  use_line_collection=True)\n",
    "\n",
    "# x eksenindeki sayıların karmaşıklığını engellemek için her 3 birimde bir yazdırmayı sağlar.\n",
    "plt.xticks(np.arange(n[0],n[-1],1))     \n",
    "plt.yticks(np.arange(h[0],h[-1],15))  \n",
    "\n",
    "plt.xlabel('n',  fontsize='20')  \n",
    "plt.ylabel('h[n]',  fontsize='20')  \n",
    "\n",
    "# title of plot\n",
    "plt.title(r'$h[n] = (4)^{n}*u[n]$', fontsize='20') \n",
    "print(\"h[n]: {0} \".format(h))"
   ]
  },
  {
   "cell_type": "markdown",
   "id": "failing-tobago",
   "metadata": {},
   "source": [
    "\n",
    "## 7-b) 19 - (e) sinyalinin çizimi \n"
   ]
  },
  {
   "cell_type": "code",
   "execution_count": 77,
   "id": "green-palestinian",
   "metadata": {},
   "outputs": [
    {
     "data": {
      "text/plain": [
       "Text(0.5, 1.0, '$h[n] = (\\\\frac{3}{4})^{|n|}*cos(\\\\frac{\\\\pi n}{4} + \\\\frac {\\\\pi} {4} )$')"
      ]
     },
     "execution_count": 77,
     "metadata": {},
     "output_type": "execute_result"
    },
    {
     "data": {
      "image/png": "[encoded data removed]",
      "text/plain": [
       "<Figure size 432x288 with 1 Axes>"
      ]
     },
     "metadata": {
      "needs_background": "light"
     },
     "output_type": "display_data"
    }
   ],
   "source": [
    "EXTREME_VALUE = 8\n",
    "\n",
    "pi = np.pi\n",
    "n = np.arange(-EXTREME_VALUE,EXTREME_VALUE+0.1,1)\n",
    "h = np.zeros(len(n))\n",
    "\n",
    "for i in range(len(n)):\n",
    "    x = abs(i-EXTREME_VALUE)\n",
    "    h[i] = ((3/4)**(x))*np.cos(pi*(i-EXTREME_VALUE)/4 + pi/4)\n",
    "\n",
    "\n",
    "plt.stem(n, h,  use_line_collection=True)\n",
    "\n",
    "# x eksenindeki sayıların karmaşıklığını engellemek için her 3 birimde bir yazdırmayı sağlar.\n",
    "plt.xticks(np.arange(n[0],n[-1],1))     \n",
    "\n",
    "plt.xlabel('n',  fontsize='20')  \n",
    "plt.ylabel('h[n]',  fontsize='20')  \n",
    "\n",
    "# title of plot\n",
    "plt.title(r'$h[n] = (\\frac{3}{4})^{|n|}*cos(\\frac{\\pi n}{4} + \\frac {\\pi} {4} )$', fontsize='20') "
   ]
  },
  {
   "cell_type": "markdown",
   "id": "completed-ethernet",
   "metadata": {},
   "source": [
    "\n",
    "# ÖDEV-2 -- SORU-8\n",
    "\n",
    "## 8-a) 21 - (c) sinyalinin çizimi \n"
   ]
  },
  {
   "cell_type": "code",
   "execution_count": 73,
   "id": "protecting-colors",
   "metadata": {},
   "outputs": [
    {
     "name": "stdout",
     "output_type": "stream",
     "text": [
      "x[0] = 1\n",
      "x[1] = 1\n",
      "x[4] = 0.5\n",
      "x[8] = 0\n"
     ]
    },
    {
     "data": {
      "text/plain": [
       "Text(0, 0.5, 'x[2n]')"
      ]
     },
     "execution_count": 73,
     "metadata": {},
     "output_type": "execute_result"
    },
    {
     "data": {
      "image/png": "[encoded data removed]",
      "text/plain": [
       "<Figure size 432x288 with 1 Axes>"
      ]
     },
     "metadata": {
      "needs_background": "light"
     },
     "output_type": "display_data"
    },
    {
     "data": {
      "image/png": "[encoded data removed]",
      "text/plain": [
       "<Figure size 432x288 with 1 Axes>"
      ]
     },
     "metadata": {
      "needs_background": "light"
     },
     "output_type": "display_data"
    }
   ],
   "source": [
    "def x_func(i):\n",
    "    if i == -1:\n",
    "        return 1\n",
    "    if i == 0:\n",
    "        return 1\n",
    "    if i == 1:\n",
    "        return 1\n",
    "    if i == 2:\n",
    "        return 1\n",
    "    if i == 3:\n",
    "        return 1\n",
    "    if i == 4:\n",
    "        return 1/2\n",
    "    else:\n",
    "        return 0\n",
    "\n",
    "print(\"x[0] = {}\".format(x_func(0)))\n",
    "print(\"x[1] = {}\".format(x_func(1)))\n",
    "print(\"x[4] = {}\".format(x_func(4)))\n",
    "print(\"x[8] = {}\".format(x_func(8)))\n",
    "\n",
    "n = [-1, 0, 1, 2, 3, 4]\n",
    "x = np.zeros(len(n))\n",
    "\n",
    "# x[n] function plotting \n",
    "for i in range(len(n)):\n",
    "    x[i] = x_func((i-1))\n",
    "plt.stem(n, x,  use_line_collection=True)\n",
    "plt.xlabel('n',  fontsize='20')  \n",
    "plt.ylabel('x[n]',  fontsize='20')  \n",
    "\n",
    "#NEW FIGURE\n",
    "plt.figure()\n",
    "\n",
    "# x[2n] function plotting\n",
    "for i in range(len(n)):\n",
    "    x[i] = x_func((i-1)*2)\n",
    "    \n",
    "plt.stem(n, x,  use_line_collection=True)\n",
    "plt.xlabel('n',  fontsize='20')  \n",
    "plt.ylabel('x[2n]',  fontsize='20')  \n",
    "  "
   ]
  },
  {
   "cell_type": "markdown",
   "id": "combined-captain",
   "metadata": {},
   "source": [
    "### $ x[0] = x[1] = x[2] = x[3] = 1 $ ve $ x[4] = \\frac {1} {2} $ olarak verilmiştir. x bir sinyal olduğundan bu sonuçların $x[an]$ için değişmemesi beklenir. Ayrık sinyallerde n hep tam sayı olacağından $x[2n]$ sinyalinde $ n = -1 \\space için \\space x[2n] = x[-2] = 0,  n = 0 \\space için \\space x[2n] = x[0],  n = 1 \\space için \\space x[2n] = x[2] = 1,  n = 2 \\space için \\space x[2n] = x[4] = \\frac {1} {2} $ olacaktır. Bu değerlerin doğruluğu x[2n] sinyalinde de görülmüştür."
   ]
  },
  {
   "cell_type": "markdown",
   "id": "injured-authority",
   "metadata": {},
   "source": [
    "\n",
    "## 8-b) 21 - (e) sinyalinin çizimi "
   ]
  },
  {
   "cell_type": "code",
   "execution_count": 74,
   "id": "acting-delta",
   "metadata": {},
   "outputs": [
    {
     "data": {
      "text/plain": [
       "Text(0, 0.5, '$ x[n-1] \\\\delta [n-3] $')"
      ]
     },
     "execution_count": 74,
     "metadata": {},
     "output_type": "execute_result"
    },
    {
     "data": {
      "image/png": "[encoded data removed]",
      "text/plain": [
       "<Figure size 432x288 with 1 Axes>"
      ]
     },
     "metadata": {
      "needs_background": "light"
     },
     "output_type": "display_data"
    }
   ],
   "source": [
    "def dirac(t):\n",
    "    if t == 0:\n",
    "        return 1\n",
    "    else:\n",
    "        return 0\n",
    "    \n",
    "\n",
    "\n",
    "n = [-1, 0, 1, 2, 3, 4]\n",
    "x = np.zeros(len(n))\n",
    "\n",
    "for i in range(len(n)):\n",
    "    x[i] = x_func((i-1) - 1) * dirac((i-1) - 3)\n",
    "    \n",
    "\n",
    "plt.stem(n, x,  use_line_collection=True)\n",
    "plt.xlabel('n',  fontsize='20')  \n",
    "plt.ylabel('$ x[n-1] \\delta [n-3] $',  fontsize='20') "
   ]
  },
  {
   "cell_type": "markdown",
   "id": "backed-quarterly",
   "metadata": {},
   "source": [
    "### $ \\delta [n-3] $ fonksiyonu sadece $ n = 3 $ için değer aldığından sadece $ n = 3 $ iken değer gözlemlenir. Bu değer $ n = 3 $ için $ x[3-1] = x[2] = 1 $ olarak gözlenir."
   ]
  }
 ],
 "metadata": {
  "kernelspec": {
   "display_name": "Python 3",
   "language": "python",
   "name": "python3"
  },
  "language_info": {
   "codemirror_mode": {
    "name": "ipython",
    "version": 3
   },
   "file_extension": ".py",
   "mimetype": "text/x-python",
   "name": "python",
   "nbconvert_exporter": "python",
   "pygments_lexer": "ipython3",
   "version": "3.7.6"
  }
 },
 "nbformat": 4,
 "nbformat_minor": 5
}
