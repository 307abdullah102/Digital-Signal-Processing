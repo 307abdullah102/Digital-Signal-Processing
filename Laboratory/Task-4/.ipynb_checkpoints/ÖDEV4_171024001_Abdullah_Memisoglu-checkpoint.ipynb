{
 "cells": [
  {
   "cell_type": "markdown",
   "id": "seasonal-detector",
   "metadata": {},
   "source": [
    "# İsim Soyisim: Abdullah MEMİŞOĞLU\n",
    "# Öğrenci Numarası: 171024001\n",
    "# Ekip Numarası A10\n"
   ]
  },
  {
   "cell_type": "markdown",
   "id": "cheap-arizona",
   "metadata": {},
   "source": [
    "# ÖDEV 4 \n",
    "## Ön Çalışma = ÖÇ"
   ]
  },
  {
   "cell_type": "markdown",
   "id": "monthly-manchester",
   "metadata": {},
   "source": [
    "KÜTÜPHANELERİN ÇAĞIRILMASI"
   ]
  },
  {
   "cell_type": "code",
   "execution_count": 64,
   "id": "absolute-version",
   "metadata": {},
   "outputs": [],
   "source": [
    "import numpy as np              # for using basic array functions\n",
    "import matplotlib.pyplot as plt # for this example, it may not be necessary\n",
    "import math \n",
    "import scipy.signal as sgnl \n",
    "import sys"
   ]
  },
  {
   "cell_type": "markdown",
   "id": "blind-broadway",
   "metadata": {},
   "source": [
    "# Z-Plane Code"
   ]
  },
  {
   "cell_type": "code",
   "execution_count": 12,
   "id": "biblical-panic",
   "metadata": {},
   "outputs": [],
   "source": [
    "# alternative syntax: from scipy import signal as sgnl\n",
    "\n",
    "def zplane(b,a):\n",
    "\n",
    "\t# Input: numerator and denominator coefficients:\n",
    "\tzeross,poless,k = sgnl.tf2zpk(b, a)\n",
    "\tif not zeross.size:\n",
    "\t\tzeross = np.zeros(len(poless))\n",
    "\t\t\n",
    "\tif not poless.size:\n",
    "\t\tpoless = np.zeros(len(zeross))\n",
    "\n",
    "\ttol = 1e-4\n",
    "\n",
    "\treal_p = np.real(poless).copy()\n",
    "\treal_z = np.real(zeross).copy()\n",
    "\timag_p = np.imag(poless).copy()\n",
    "\timag_z = np.imag(zeross).copy()\n",
    "\n",
    "\tif not real_z.size:\n",
    "\t\treal_z[abs(real_z) < tol] = 0\n",
    "\tif not imag_z.size:\n",
    "\t\timag_z[abs(imag_z) < tol] = 0\n",
    "\tif not real_p.size:\n",
    "\t\treal_p[abs(real_p) < tol] = 0\n",
    "\tif not imag_p.size:\n",
    "\t\timag_p[abs(imag_p) < tol] = 0\n",
    "\n",
    "\tz = np.round(real_z,2) + 1j*np.round(imag_z,2)\n",
    "\tp = np.round(real_p,2) + 1j*np.round(imag_p,2)\n",
    "\n",
    "\t# plot the unit circle\n",
    "\tN = 128\n",
    "\tm = np.arange(0,N,1)\n",
    "\tunitCircle = np.exp(1j*m*2*np.pi/N)\n",
    "\n",
    "\tplt.figure()\n",
    "\tplt.plot(np.real(unitCircle), np.imag(unitCircle), 'b--', linewidth=0.3)\n",
    "\tplt.xlabel('Real Part'), plt.ylabel('Imaginary Part')\n",
    "\n",
    "\t# calculate the plot limits\n",
    "\tCz, z_counts = np.unique(z, return_counts=True)\n",
    "\tCp, p_counts = np.unique(p, return_counts=True)\n",
    "\n",
    "\tzz = [idx1 for idx1, valz in enumerate(z_counts) if valz > 1]\n",
    "\tpp = [idx2 for idx2, valp in enumerate(p_counts) if valp > 1]\n",
    "\tzval = z_counts[zz]\n",
    "\tpval = p_counts[pp]\n",
    "\tzs = Cz[zz]\n",
    "\tps = Cp[pp]\n",
    "\n",
    "\treal_roots = np.concatenate((np.real(p),np.real(z)))\n",
    "\timag_roots = np.concatenate((np.imag(p),np.imag(z)))\n",
    "\n",
    "\t# adjust plot limits\n",
    "\txlower = min(-1, min(real_roots)) - 0.3\n",
    "\txupper = max(1,  max(real_roots)) + 0.3\n",
    "\tylower = min(-1, min(imag_roots)) - 0.3\n",
    "\tyupper = max(1,  max(imag_roots)) + 0.3\n",
    "\tplt.xlim(xlower, xupper), plt.ylim(ylower, yupper)\n",
    "\n",
    "\t# plot axes\n",
    "\tXaxis = np.arange(xlower, xupper, 0.1)\n",
    "\tYaxis = np.arange(ylower, yupper, 0.1)\n",
    "\tplt.plot(np.real(Xaxis), np.imag(Xaxis), 'b--', linewidth=0.3)\n",
    "\tplt.plot(np.imag(Yaxis), np.real(Yaxis), 'b--', linewidth=0.3)\n",
    "\n",
    "\t# plot poles and zeros\n",
    "\tplt.plot(np.real(z), np.imag(z), 'ro',  markerfacecolor = 'none')\n",
    "\tplt.plot(np.real(p), np.imag(p), 'rx')\n",
    "\n",
    "\tif zz:\n",
    "\t\ttxtz = str(zval)[1:-1]\n",
    "\t\tplt.annotate(txtz, xy=(np.real(zs)+0.1,np.imag(zs)+0.1))\n",
    "\t\t\n",
    "\tif pp:\n",
    "\t\ttxtp = str(pval)[1:-1]\n",
    "\t\tplt.annotate(txtp, xy=(np.real(ps)+0.1,np.imag(ps)+0.1))\n",
    "\n",
    "\tplt.grid()\n",
    "\tplt.show()\n",
    "\n"
   ]
  },
  {
   "cell_type": "markdown",
   "id": "executed-publication",
   "metadata": {},
   "source": [
    "# Ön Çalışma 7"
   ]
  },
  {
   "cell_type": "code",
   "execution_count": 4,
   "id": "wicked-oregon",
   "metadata": {},
   "outputs": [
    {
     "name": "stdout",
     "output_type": "stream",
     "text": [
      "[ 1.    -0.75   0.125]\n",
      "[1. 0.]\n"
     ]
    }
   ],
   "source": [
    "z=np.array([0]); # zeros\n",
    "p=np.array([1.0/4,1.0/2])# poles\n",
    "b,a=sgnl.zpk2tf(z,p,1)\n",
    "print(a)# denum\n",
    "print(b)# num\n",
    "#zpk2tf sayesinde zero-pole kullanılarak denum-num bulundu."
   ]
  },
  {
   "cell_type": "code",
   "execution_count": 6,
   "id": "dated-bridge",
   "metadata": {},
   "outputs": [
    {
     "name": "stdout",
     "output_type": "stream",
     "text": [
      "[-1.  2.]\n",
      "[0.25 0.5 ]\n",
      "[]\n"
     ]
    }
   ],
   "source": [
    "## sistemi basit kesirlere ayırarak katsayı verir \n",
    "# r[0]/(1-p[0]z^-1)....k[0]+k[1]z^-1.. formatı\n",
    "r,p,k =sgnl.residuez(b,a)\n",
    "print(r)\n",
    "print(p)\n",
    "print(k)"
   ]
  },
  {
   "cell_type": "markdown",
   "id": "fourth-pointer",
   "metadata": {},
   "source": [
    "# Ön Çalışma 8"
   ]
  },
  {
   "cell_type": "code",
   "execution_count": 7,
   "id": "placed-reputation",
   "metadata": {},
   "outputs": [
    {
     "data": {
      "text/plain": [
       "<StemContainer object of 3 artists>"
      ]
     },
     "execution_count": 7,
     "metadata": {},
     "output_type": "execute_result"
    },
    {
     "data": {
      "image/png": "[encoded data removed]",
      "text/plain": [
       "<Figure size 432x288 with 1 Axes>"
      ]
     },
     "metadata": {
      "needs_background": "light"
     },
     "output_type": "display_data"
    }
   ],
   "source": [
    "num=np.array([1,0,0])# zeros\n",
    "denum=np.array([1,-3.0/4,1.0/8])#poles\n",
    "n,x =sgnl.dimpulse((num,denum,1),x0=0,n=10)\n",
    "plt.stem(n,np.squeeze(x))\n",
    "\n",
    "# sistem fonksiyonunun zero ve pole'leri kullanılarak \n",
    "# dürtü cevabını çizdirme işlemi "
   ]
  },
  {
   "cell_type": "markdown",
   "id": "recognized-faculty",
   "metadata": {},
   "source": [
    "# Ön Çalışma 9"
   ]
  },
  {
   "cell_type": "code",
   "execution_count": 8,
   "id": "ethical-aquarium",
   "metadata": {},
   "outputs": [
    {
     "data": {
      "text/plain": [
       "Text(0.5, 0, 'index vector (sample)')"
      ]
     },
     "execution_count": 8,
     "metadata": {},
     "output_type": "execute_result"
    },
    {
     "data": {
      "image/png": "[encoded data removed]",
      "text/plain": [
       "<Figure size 432x288 with 2 Axes>"
      ]
     },
     "metadata": {
      "needs_background": "light"
     },
     "output_type": "display_data"
    }
   ],
   "source": [
    "n = np.arange(0,10,1) # define the index vector for 10 points\n",
    "xpf = -(1.0/4)**n + 2*(1.0/2)**n # result of Ornek-7\n",
    "num = np.array([1, 0, 0]) # we add zeros to match the size of num an\n",
    "denum = np.array([1, -3.0/4, 1.0/8]) # coeffs of denum\n",
    "n1, xpse = sgnl.dimpulse((num, denum, 1),x0=0, n=10)\n",
    "xpse = np.squeeze(xpse)\n",
    "plt.subplot(2,1,1), plt.stem(n, xpf), plt.ylabel('$x_{pf}[n]$')\n",
    "plt.subplot(2,1,2), plt.stem(n, xpse), plt.ylabel('$x_{pse}[n]$')\n",
    "plt.xlabel('index vector (sample)')"
   ]
  },
  {
   "cell_type": "markdown",
   "id": "affected-portsmouth",
   "metadata": {},
   "source": [
    "# Ön Çalışma 10"
   ]
  },
  {
   "cell_type": "code",
   "execution_count": 9,
   "id": "protected-distance",
   "metadata": {},
   "outputs": [
    {
     "data": {
      "text/plain": [
       "<StemContainer object of 3 artists>"
      ]
     },
     "execution_count": 9,
     "metadata": {},
     "output_type": "execute_result"
    },
    {
     "data": {
      "image/png": "[encoded data removed]",
      "text/plain": [
       "<Figure size 432x288 with 1 Axes>"
      ]
     },
     "metadata": {
      "needs_background": "light"
     },
     "output_type": "display_data"
    },
    {
     "data": {
      "image/png": "[encoded data removed]",
      "text/plain": [
       "<Figure size 432x288 with 1 Axes>"
      ]
     },
     "metadata": {
      "needs_background": "light"
     },
     "output_type": "display_data"
    },
    {
     "data": {
      "image/png": "[encoded data removed]",
      "text/plain": [
       "<Figure size 432x288 with 1 Axes>"
      ]
     },
     "metadata": {
      "needs_background": "light"
     },
     "output_type": "display_data"
    }
   ],
   "source": [
    "zeros = np.array([-1]) # observe that the numerator can be defined as transf\n",
    "poles = np.array([1j/2, -1j/2, 1.0/4])\n",
    "w, H = sgnl.freqz_zpk(zeros, poles, 1)\n",
    "plt.plot(w/np.pi, abs(H)) # plot the magnitude in logarithmic scale with blue\n",
    "plt.title('Frequency Response of $H(z)$')\n",
    "plt.ylabel('Magnitude'), plt.xlabel('$\\omega$ x $\\pi$ (rad/sample)')\n",
    "plt.grid()\n",
    "\n",
    "num, denum = sgnl.zpk2tf(zeros, poles, 1) # will return the coefficients b and a, r\n",
    "w1, H_tf = sgnl.freqz(num, denum)\n",
    "plt.figure()\n",
    "plt.plot(w1/np.pi, abs(H_tf)) # plot the magnitude in logarithmic scale with b\n",
    "plt.title('Frequency Response of $H(z)$')\n",
    "plt.ylabel('Magnitude'), plt.xlabel('$\\omega$ x $\\pi$ (rad/sample)')\n",
    "plt.grid()\n",
    "\n",
    "n = np.arange(0, 40, 1) # define the index vector\n",
    "xn = 2*np.cos(0.2*np.pi*n) + np.sin(0.9*np.pi*n)\n",
    "yn = sgnl.lfilter(num, denum, xn)\n",
    "plt.figure()\n",
    "plt.stem(n, yn)\n"
   ]
  },
  {
   "cell_type": "markdown",
   "id": "invisible-intake",
   "metadata": {},
   "source": [
    "# Ön Çalışma 11"
   ]
  },
  {
   "cell_type": "code",
   "execution_count": 13,
   "id": "revised-bankruptcy",
   "metadata": {},
   "outputs": [
    {
     "data": {
      "image/png": "[encoded data removed]",
      "text/plain": [
       "<Figure size 432x288 with 1 Axes>"
      ]
     },
     "metadata": {
      "needs_background": "light"
     },
     "output_type": "display_data"
    }
   ],
   "source": [
    "zeross = np.array([-1]) # the system has a single ze\n",
    "poless = np.array([-1j/2, 1j/2, -1/4]) # the system has three poles\n",
    "k = 1 # the system has unity gain\n",
    "b, a = sgnl.zpk2tf(zeross,poless,k) # call the function that con\n",
    "zplane(b,a)"
   ]
  },
  {
   "cell_type": "code",
   "execution_count": 15,
   "id": "vocal-custody",
   "metadata": {},
   "outputs": [
    {
     "data": {
      "text/plain": [
       "<Figure size 432x288 with 0 Axes>"
      ]
     },
     "metadata": {},
     "output_type": "display_data"
    },
    {
     "data": {
      "image/png": "[encoded data removed]",
      "text/plain": [
       "<Figure size 432x288 with 1 Axes>"
      ]
     },
     "metadata": {
      "needs_background": "light"
     },
     "output_type": "display_data"
    }
   ],
   "source": [
    "num = np.array([1, 0, 1]) # note that the coeff of z^(-1) term is zero.\n",
    "denum = np.array([1, -1.0/2])\n",
    "plt.figure()\n",
    "zplane(num, denum)"
   ]
  },
  {
   "cell_type": "code",
   "execution_count": 17,
   "id": "ceramic-communications",
   "metadata": {},
   "outputs": [
    {
     "data": {
      "text/plain": [
       "Text(0.5, 0, '$\\\\omega$ x$\\\\pi$ rad/sample')"
      ]
     },
     "execution_count": 17,
     "metadata": {},
     "output_type": "execute_result"
    },
    {
     "data": {
      "image/png": "[encoded data removed]",
      "text/plain": [
       "<Figure size 432x288 with 1 Axes>"
      ]
     },
     "metadata": {
      "needs_background": "light"
     },
     "output_type": "display_data"
    }
   ],
   "source": [
    "# Now, we define the frequency response as:\n",
    "w = np.linspace(0, 2*np.pi, 100)\n",
    "Hw = (1+np.exp(-2*1j*w))/(1-(1/2)*np.exp(-1j*w))\n",
    "# alternatively, we could use the sgnl.freqz_zpk() function to calculate the Frequen\n",
    "# or sgnl.freqz() function to calculate from the coefficients.\n",
    "Hw_abs = abs(Hw)\n",
    "plt.figure()\n",
    "plt.plot(w/np.pi, Hw_abs)\n",
    "plt.grid()\n",
    "plt.xlabel('$\\omega$ x$\\pi$ rad/sample')"
   ]
  },
  {
   "cell_type": "markdown",
   "id": "stylish-depression",
   "metadata": {},
   "source": [
    "# ÖDEV 4"
   ]
  },
  {
   "cell_type": "markdown",
   "id": "dynamic-revolution",
   "metadata": {},
   "source": [
    "# SORU - 1a)"
   ]
  },
  {
   "cell_type": "markdown",
   "id": "mathematical-massage",
   "metadata": {},
   "source": [
    "## Fark denklemi olarak verilen $ y[n] = \\frac{1}{2} y[n-1] - 4y[n-2] + 2 y[n-3] + x[n] + \\frac{2}{3} x[n-1] + \\frac{1}{9} x[n-2] $ sistemin sistem fonksiyonu $ H(z) = \\frac{Y(z)}{X(z)} $ ile bulunur. Fark denklemlerinde bu oran kolayca elde edilebilmektedir. İlgili denklemin z-transformu şöyledir: \n",
    "$ Y(z) = \\frac{1}{2} Y(z)z^{-1} - 4Y(z)z^{-2} + 2 Y(z)z^{-3} + X(z) + \\frac{2}{3} X(z)z^{-1} + \\frac{1}{9} X(z)z^{-2} \\Rightarrow $\n",
    "$ Y(z) - \\frac{1}{2} Y(z)z^{-1} +  4Y(z)z^{-2}  - 2 Y(z)z^{-3} = X(z) + \\frac{2}{3} X(z)z^{-1} + \\frac{1}{9} X(z)z^{-2} \\Rightarrow $\n",
    "$  Y(z)[1 - \\frac{1}{2}z^{-1} +  4z^{-2}  - 2z^{-3}] = X(z)[1 + \\frac{2}{3} z^{-1} + \\frac{1}{9} z^{-2} ] \\Rightarrow $\n",
    "\n",
    "$ \\frac{Y(z)}{X(z)} = H(z) = \\frac{1 + \\frac{2}{3} z^{-1} + \\frac{1}{9} z^{-2}} {1 - \\frac{1}{2}z^{-1} +  4z^{-2}  - 2z^{-3}}$\n",
    "## Sistem fonksiyonu $  H(z) = \\frac{1 + \\frac{2}{3} z^{-1} + \\frac{1}{9} z^{-2}} {1 - \\frac{1}{2}z^{-1} +  4z^{-2}  - 2z^{-3}} $ olarak bulunur.\n"
   ]
  },
  {
   "cell_type": "markdown",
   "id": "north-boating",
   "metadata": {},
   "source": [
    "# SORU - 1b)"
   ]
  },
  {
   "cell_type": "code",
   "execution_count": 11,
   "id": "meaningful-zealand",
   "metadata": {},
   "outputs": [
    {
     "data": {
      "text/plain": [
       "<Figure size 432x288 with 0 Axes>"
      ]
     },
     "metadata": {},
     "output_type": "display_data"
    },
    {
     "data": {
      "image/png": "[encoded data removed]",
      "text/plain": [
       "<Figure size 432x288 with 1 Axes>"
      ]
     },
     "metadata": {
      "needs_background": "light"
     },
     "output_type": "display_data"
    }
   ],
   "source": [
    "num = np.array([1, 2.0/3, 1.0/9]) # H(z) sistem fonksiyonunda pay kısmında z^n terimlerinin hiyerarşik katsayıları \n",
    "denum = np.array([1, -1.0/2, 4, -2])  # H(z) sistem fonksiyonunda payda kısmında z^n terimlerinin hiyerarşik katsayıları \n",
    "\n",
    "plt.figure()\n",
    "zplane(num,denum)"
   ]
  },
  {
   "cell_type": "markdown",
   "id": "median-uzbekistan",
   "metadata": {},
   "source": [
    "# SORU - 1c)"
   ]
  },
  {
   "cell_type": "markdown",
   "id": "charitable-designation",
   "metadata": {},
   "source": [
    "## C-1:\n",
    "### $ h[n] = 0, n < 0 $ şartı sistemin nedensel bir sistem olduğunu gösterir. Nedensel sistemler sağ yanlıdır ve z-transformu olan sistemler ROC bölgesinde pole içermemelidir. Bu durumda ROC aşağıdaki gibi belirlenir.\n",
    "## ROC: |z| > 2 \n",
    "\n",
    "## C-2: \n",
    "### Bir sistemin fourier dönüşümü var ise z-plane'de ROC unit circle'ı kapsamalıdır. Aynı zamanda z-transformu olan bir sistem ROC bünyesinde pole barındırmamalıdır. Bu durumda ROC aşağıdaki gibi halka oluşturur. \n",
    "## ROC: 0.5 < |z| < 2\n",
    "\n"
   ]
  },
  {
   "cell_type": "markdown",
   "id": "quantitative-banana",
   "metadata": {},
   "source": [
    "# SORU - 1d)"
   ]
  },
  {
   "cell_type": "code",
   "execution_count": 12,
   "id": "mediterranean-pilot",
   "metadata": {},
   "outputs": [
    {
     "data": {
      "text/plain": [
       "Text(0.5, 1.0, 'Dürtü Yanıtı')"
      ]
     },
     "execution_count": 12,
     "metadata": {},
     "output_type": "execute_result"
    },
    {
     "data": {
      "image/png": "[encoded data removed]",
      "text/plain": [
       "<Figure size 432x288 with 1 Axes>"
      ]
     },
     "metadata": {
      "needs_background": "light"
     },
     "output_type": "display_data"
    }
   ],
   "source": [
    "num = np.array([1, 2.0/3, 1.0/9]) # H(z) sistem fonksiyonunda pay kısmında z^n terimlerinin hiyerarşik katsayıları \n",
    "denum = np.array([1, -1.0/2, 4, -2]) # H(z) sistem fonksiyonunda payda kısmında z^n terimlerinin hiyerarşik katsayıları \n",
    "n, x = sgnl.dimpulse((num, denum, 1),x0=0, n=31)\n",
    "plt.stem(n, np.squeeze(x))\n",
    "plt.xlabel('n', fontsize='20')\n",
    "plt.ylabel('h[n]', fontsize='20')\n",
    "plt.title('Dürtü Yanıtı', fontsize='20')\n",
    "#plt.xticks(np.arange(n[0],n[-1],1))     "
   ]
  },
  {
   "cell_type": "markdown",
   "id": "unlimited-prisoner",
   "metadata": {},
   "source": [
    "## $\\sum_{n=-\\infty}^\\infty |h[n]| < \\infty $ şartının sağlanmadığı dürtü yanıtı grafiğinden görülmektedir. Dürtü yanıtının mutlak değeri |h[n]|, n'in artışı ile artmaktadır. Bu durumda şart gösterilen toplam sonsuza ıraksar. Bu toplamın sonsuz olması sistemin KARARSIZ olduğunu göstermektedir.\n"
   ]
  },
  {
   "cell_type": "markdown",
   "id": "brilliant-methodology",
   "metadata": {},
   "source": [
    "# Soru 1e)"
   ]
  },
  {
   "cell_type": "markdown",
   "id": "civilian-liquid",
   "metadata": {},
   "source": [
    "## Nedensellik şartının sistemin sağ yanlı olması, kararlılık şartının ise sistemin ROC bölgesinin unit circle'ı içermesi olduğu 1-c)'de belirtilmekteydi. Bu şartlar altında bu sistemin sağ yanlı olduğunda pole içermemesi için ROC: |z| > 2 olacağı böylece unit circle içermeyeceği gözlenir. Sistemin hem nedensel hem kararlı olabilmesi için z = 2j ve z = -2j köklerinin ortadan kaldırılması gerekir. Bu durumda ROC: |z| > 0.5 olur ve sistem hem sağ yanlı hem de unit circle içeren bir ROC'a sahip olur. Matematiksel olarak sistem fonksiyonu H(z)'nin yeni hali \n",
    "\n",
    "## $ H_{new}(z) = H(z)*(z + 2j)*(z - 2j) = (z^2 + 4)*H(z)$ olmalıdır.\n",
    "## $ H_{new}(z) =\\frac{(z^2 + 4) + (z^2 + 4) \\frac{2}{3} z^{-1} + (z^2 + 4) \\frac{1}{9} z^{-2}} {1 - \\frac{1}{2}z^{-1} +  4z^{-2}  - 2z^{-3}} = \\frac{ z^2 + \\frac{2}{3}z + \\frac{37}{9} + \\frac{8}{3}z^{-1} + \\frac{4}{9}z^{-2}}{1 - \\frac{1}{2}z^{-1} +4z^{-2} -2z^{-3}}$ olarak bulunur.\n",
    "\n"
   ]
  },
  {
   "cell_type": "markdown",
   "id": "blind-berry",
   "metadata": {},
   "source": [
    "# Soru 1f)"
   ]
  },
  {
   "cell_type": "code",
   "execution_count": 13,
   "id": "monetary-fellowship",
   "metadata": {},
   "outputs": [
    {
     "data": {
      "text/plain": [
       "<Figure size 432x288 with 0 Axes>"
      ]
     },
     "metadata": {},
     "output_type": "display_data"
    },
    {
     "data": {
      "image/png": "[encoded data removed]",
      "text/plain": [
       "<Figure size 432x288 with 1 Axes>"
      ]
     },
     "metadata": {
      "needs_background": "light"
     },
     "output_type": "display_data"
    }
   ],
   "source": [
    "num   = np.array([1, 2.0/3, 37.0/9, 8.0/3, 4.0/9 ])# Hnew(z) sistem fonksiyonunda pay kısmında z^n terimlerinin hiyerarşik katsayıları \n",
    "denum = np.array([0, 1, -1.0/2, 4, -2])# Hnew(z) sistem fonksiyonunda payda kısmında z^n terimlerinin hiyerarşik katsayıları \n",
    "\n",
    "plt.figure()\n",
    "zplane(num,denum)"
   ]
  },
  {
   "cell_type": "markdown",
   "id": "colored-barrier",
   "metadata": {},
   "source": [
    "## 1-e kısmında yapılan işlem sonucunun doğruluğu z-plane'de görülmektedir. z = -2j ve z = 2j noktalarında kökler hem pole hem zero olarak görülmektedir. Köklerin sadeleşmesi sonucunda sistem hem kararlı hem nedensel karakterdedir. "
   ]
  },
  {
   "cell_type": "code",
   "execution_count": 127,
   "id": "acoustic-belize",
   "metadata": {},
   "outputs": [
    {
     "name": "stdout",
     "output_type": "stream",
     "text": [
      "[1. 0. 0. 0. 0. 0. 0. 0. 0. 0. 0. 0. 0. 0. 0. 0. 0. 0. 0. 0. 0. 0. 0. 0.\n",
      " 0. 0. 0. 0. 0. 0. 0. 0. 0. 0. 0. 0. 0. 0. 0. 0.]\n"
     ]
    },
    {
     "data": {
      "text/plain": [
       "Text(0.5, 1.0, 'Dürtü Yanıtı')"
      ]
     },
     "execution_count": 127,
     "metadata": {},
     "output_type": "execute_result"
    },
    {
     "data": {
      "image/png": "[encoded data removed]",
      "text/plain": [
       "<Figure size 432x288 with 1 Axes>"
      ]
     },
     "metadata": {
      "needs_background": "light"
     },
     "output_type": "display_data"
    },
    {
     "data": {
      "image/png": "[encoded data removed]",
      "text/plain": [
       "<Figure size 432x288 with 1 Axes>"
      ]
     },
     "metadata": {
      "needs_background": "light"
     },
     "output_type": "display_data"
    },
    {
     "data": {
      "image/png": "[encoded data removed]",
      "text/plain": [
       "<Figure size 432x288 with 1 Axes>"
      ]
     },
     "metadata": {
      "needs_background": "light"
     },
     "output_type": "display_data"
    }
   ],
   "source": [
    "def dirac(m):\n",
    "    if m == 0:\n",
    "        return 1\n",
    "    else:\n",
    "        return 0\n",
    "    \n",
    "\n",
    "zeros = np.array([-0.3333, -0.3333]) \n",
    "poles = np.array([0.5])\n",
    "num   = np.array([1, 2.0/3, 37.0/9, 8.0/3, 4.0/9 ])\n",
    "denum = np.array([0, 1, -1.0/2, 4, -2])\n",
    "\n",
    "w, H = sgnl.freqz_zpk(zeros, poles, 1)\n",
    "plt.plot(w/np.pi, abs(H)) \n",
    "plt.title('Frequency Response of $H(z)$')\n",
    "plt.ylabel('Magnitude'), plt.xlabel('$\\omega$ x $\\pi$ (rad/sample)')\n",
    "plt.grid()\n",
    "\n",
    "num, denum = sgnl.zpk2tf(zeros, poles, 1) \n",
    "w1, H_tf = sgnl.freqz(num, denum)\n",
    "plt.figure()\n",
    "plt.plot(w1/np.pi, abs(H_tf)) \n",
    "plt.title('Frequency Response of $H(z)$')\n",
    "plt.ylabel('Magnitude'), plt.xlabel('$\\omega$ x $\\pi$ (rad/sample)')\n",
    "plt.grid()\n",
    "\n",
    "n = np.arange(0, 40, 1) \n",
    "xn = np.zeros(len(n))\n",
    "\n",
    "for i in range(len(n)):\n",
    "    xn[i] = dirac(n[i])\n",
    "print(xn)\n",
    "\n",
    "yn = sgnl.lfilter(num,denum,xn)\n",
    "plt.figure()\n",
    "plt.stem(n, yn)\n",
    "plt.xlabel('n', fontsize='20')\n",
    "plt.ylabel('$h_{new}[n]$', fontsize='20')\n",
    "plt.title('Dürtü Yanıtı', fontsize='20')"
   ]
  },
  {
   "cell_type": "markdown",
   "id": "front-syndication",
   "metadata": {},
   "source": [
    "## Sistem kararsız iken ilgili iki kök sistemden çıkarılarak kararlı hale getirildi. Bu durumun ispatı hnew sinyaliyle gözlenmektedir. $\\sum_{n=-\\infty}^\\infty |h[n]| < \\infty $ şartının sağlandığı grafiğin azalanlığına bakılarak gözlenebilmektedir. \n",
    "\n",
    "\n",
    "\n"
   ]
  },
  {
   "cell_type": "markdown",
   "id": "incorporate-throw",
   "metadata": {},
   "source": [
    "# SORU 2\n"
   ]
  },
  {
   "cell_type": "markdown",
   "id": "increased-provincial",
   "metadata": {},
   "source": [
    "# Dürtü Cevabının el ile hesaplanması\n",
    "\n",
    "## $ H(z) = \\frac{z^2}{(z+1)(z-1)^2} $ olarak verildiğinden en uygun çözüm basit kesirlere ayırma yöntemidir.\n",
    "\n",
    "## $ H(z) = \\frac{z^2}{(z+1)(z-1)^2} = \\frac{A}{z+1} + \\frac{B}{z-1} + \\frac{C}{(z-1)^2} $ \n",
    "## formatına getirilerek A,B,C bulunur.\n",
    "\n",
    "## A bulmak için:\n",
    "### $ H(z)*(z+1)|_{z = -1} = \\frac{z^2}{(z-1)^2}|_{z = -1} =A= \\frac{1}{4} $\n",
    "## B bulmak için:\n",
    "### $ \\frac {d[H(z)*(z-1)^2]}{dz}|_{z = 1} = \\frac{ 2z*(z+1) - z^2}{(z+1)^2}|_{z = 1} = B = \\frac{3}{4} $\n",
    "## C bulmak için:\n",
    "### $ H(z)*(z-1)^2|_{z = 1} = \\frac{z^2}{(z+1)}|_{z = 1} =C= \\frac{1}{2} $\n",
    "# H(z) son hali:\n",
    "#### $ H(z) = \\frac{z^2}{(z+1)(z-1)^2} = \\frac{\\frac{1}{4}}{z+1} + \\frac{\\frac{3}{4}}{z-1} + \\frac{\\frac{1}{2}}{(z-1)^2} = H_1(z) +  H_2(z) +  H_3(z) $ \n",
    "\n",
    "### $ H_1(z) = \\frac{\\frac{1}{4}}{z+1} =\\frac{1}{4} z^{-1}\\frac{z}{z+1}\\Rightarrow h_1[n] = \\frac{1}{4}(-1)^{n-1}u[n-1]$\n",
    "\n",
    "### $ H_2(z) = \\frac{\\frac{3}{4}}{z-1} =\\frac{3}{4} z^{-1}\\frac{z}{z-1}\\Rightarrow h_2[n] = \\frac{3}{4}(1)^{n-1}u[n-1] $\n",
    "\n",
    "#### $ H_3(z) = \\frac{\\frac{1}{2}}{(z-1)^2} =\\frac{1}{2} z^{-2}\\frac{z^2}{(z-1)^2}\\Rightarrow h_3[n] = \\frac{1}{2} (n-1)(1)^{n-1}u[n-1]$\n",
    "\n",
    "## Linearity:\n",
    "$ H(z) = H_1(z)+H_2(z)+H_3(z) \\Rightarrow h[n] = h_1[n]+h_2[n]+h_3[n]$\n",
    "\n",
    "#### $ h[n] = \\frac{1}{4}(-1)^{n-1}u[n-1] + \\frac{3}{4}(1)^{n-1}u[n-1] + \\frac{1}{2} (n-1)(1)^{n-1}u[n-1] $\n",
    "\n",
    "### olarak bulunur.\n",
    "\n",
    "\n",
    "### NOT: B bulmak için uygulanan yöntemde çift katlı kök olduğundan türeve başvurulmuştur. Her tarafın $ (z-1)^2$ ile çarpılması durumunda ilgili pay kısımları \n",
    "## 1: $A*(z-1)^2$\n",
    "## 2: $B*(z-1)$ \n",
    "## 3: $C$\n",
    "### Bu durumda z = 1 değerinde türev alındığında A'lı terim z = 1 için sıfırlanır. C'li terim sabit olduğu için türevde sıfırlanır. B'li terimin z'ye göre türevi ise B'yi verir. Böylece B değeri bulunabilmektedir.\n",
    "\n",
    "## $ h[n] = \\frac{1}{4}(-1)^{n-1}u[n-1] + \\frac{3}{4}(1)^{n-1}u[n-1] + \\frac{1}{2} (n-1)(1)^{n-1}u[n-1] $"
   ]
  },
  {
   "cell_type": "markdown",
   "id": "respective-executive",
   "metadata": {},
   "source": [
    "## Ön Çalışma 7 Uyarlaması - Soru 2 "
   ]
  },
  {
   "cell_type": "code",
   "execution_count": 19,
   "id": "recreational-publisher",
   "metadata": {},
   "outputs": [],
   "source": [
    "def step(n):\n",
    "    if n >= 0:\n",
    "        return 1\n",
    "    else:\n",
    "        return 0"
   ]
  },
  {
   "cell_type": "code",
   "execution_count": 114,
   "id": "olive-street",
   "metadata": {},
   "outputs": [
    {
     "name": "stdout",
     "output_type": "stream",
     "text": [
      "[0.25 0.75 0.5 ]\n",
      "[-1.  1.  1.]\n",
      "[]\n"
     ]
    },
    {
     "data": {
      "text/plain": [
       "Text(0.5, 1.0, ' Örnek 7-Soru2')"
      ]
     },
     "execution_count": 114,
     "metadata": {},
     "output_type": "execute_result"
    },
    {
     "data": {
      "image/png": "[encoded data removed]",
      "text/plain": [
       "<Figure size 432x288 with 1 Axes>"
      ]
     },
     "metadata": {
      "needs_background": "light"
     },
     "output_type": "display_data"
    }
   ],
   "source": [
    "z = np.array([0, 0]) # a zero @z=0\n",
    "p = np.array([-1, 1, 1]) # poles of the system\n",
    "b, a = sgnl.zpk2tf(z, p, 1) # since there is no gain k=1\n",
    "b,a\n",
    "# we do the partial fraction expansion by:\n",
    "r, p, k = sgnl.residue(b,a) #\n",
    "print(r)\n",
    "print(p)\n",
    "print(k)\n",
    "# to check the correctness of the polynomial roots (i.e. p's) we can use\n",
    "poless = np.roots(a)\n",
    "\n",
    "n = np.linspace(0,15,16)\n",
    "\n",
    "x = np.zeros(len(n))\n",
    "for i in range(1,len(n)):\n",
    "    x[i] = (1/4)*(math.pow(-1,(n[i-1]))*step(n[i-1])) + (3/4)*step(n[i-1]) + (1/2)*((n[i-1]))*step((n[i-1]))\n",
    "    #x[i] = (1/4)*(math.pow(-1,(n[i]-1))*step(n[i]-1) + (3/4)*step(n[i]-1) + 1/2*((n[i]-1))*step((n[i]-1)))\n",
    "    \n",
    "plt.figure()\n",
    "plt.stem(n,x)\n",
    "plt.xlabel(\"n\")\n",
    "plt.ylabel(\"h[n]\")\n",
    "plt.title(\" Örnek 7-Soru2\")\n",
    "#print(x)\n",
    "\n",
    "# r p ve k değerleri el ile elde edilen katsayılar ile uyuşmaktadır."
   ]
  },
  {
   "cell_type": "markdown",
   "id": "certified-bottom",
   "metadata": {},
   "source": [
    "## Ön Çalışma 8 Uyarlaması \n"
   ]
  },
  {
   "cell_type": "code",
   "execution_count": 115,
   "id": "spatial-physiology",
   "metadata": {
    "scrolled": false
   },
   "outputs": [
    {
     "name": "stderr",
     "output_type": "stream",
     "text": [
      "E:\\Anaconda\\lib\\site-packages\\scipy\\signal\\filter_design.py:1631: BadCoefficients: Badly conditioned filter coefficients (numerator): the results may be meaningless\n",
      "  \"results may be meaningless\", BadCoefficients)\n"
     ]
    },
    {
     "data": {
      "text/plain": [
       "Text(0.5, 1.0, ' Örnek 8 Uyarlama')"
      ]
     },
     "execution_count": 115,
     "metadata": {},
     "output_type": "execute_result"
    },
    {
     "data": {
      "image/png": "[encoded data removed]",
      "text/plain": [
       "<Figure size 432x288 with 1 Axes>"
      ]
     },
     "metadata": {
      "needs_background": "light"
     },
     "output_type": "display_data"
    }
   ],
   "source": [
    "num   = np.array([0,  1, 0, 0]) \n",
    "denum = np.array([1, -1, -1, 1]) \n",
    "n, x = sgnl.dimpulse((num, denum, 1),x0=0, n=16)\n",
    "\n",
    "#print(x)\n",
    "plt.stem(n, np.squeeze(x))\n",
    "plt.xlabel(\"n\")\n",
    "plt.ylabel(\"h[n]\")\n",
    "plt.title(\" Örnek 8 Uyarlama\")\n",
    "#print(np.squeeze(x))"
   ]
  },
  {
   "cell_type": "markdown",
   "id": "contrary-scottish",
   "metadata": {},
   "source": [
    "## Ön Çalışma 9 Uyarlaması "
   ]
  },
  {
   "cell_type": "code",
   "execution_count": 116,
   "id": "attractive-balloon",
   "metadata": {},
   "outputs": [
    {
     "name": "stderr",
     "output_type": "stream",
     "text": [
      "E:\\Anaconda\\lib\\site-packages\\scipy\\signal\\filter_design.py:1631: BadCoefficients: Badly conditioned filter coefficients (numerator): the results may be meaningless\n",
      "  \"results may be meaningless\", BadCoefficients)\n"
     ]
    },
    {
     "data": {
      "text/plain": [
       "Text(0.5, 1.0, ' Örnek 8')"
      ]
     },
     "execution_count": 116,
     "metadata": {},
     "output_type": "execute_result"
    },
    {
     "data": {
      "image/png": "[encoded data removed]",
      "text/plain": [
       "<Figure size 432x288 with 2 Axes>"
      ]
     },
     "metadata": {
      "needs_background": "light"
     },
     "output_type": "display_data"
    }
   ],
   "source": [
    "# ÖRNEK 7\n",
    "n = np.linspace(0,15,16)\n",
    "x = np.zeros(len(n))\n",
    "for i in range(1,len(n)):\n",
    "    x[i] = (1/4)*(math.pow(-1,(n[i-1]))*step(n[i-1])) + (3/4)*step(n[i-1]) + (1/2)*((n[i-1]))*step((n[i-1]))\n",
    "    \n",
    "    \n",
    "# ÖRNEK 8\n",
    "num   = np.array([0,  1, 0, 0]) # we add zeros to match the size of num and\n",
    "denum = np.array([1, -1, -1, 1]) # coeffs of denum\n",
    "n8, x8 = sgnl.dimpulse((num, denum, 1),x0=0, n=16)\n",
    "\n",
    "\n",
    "plt.subplot(1,2,1)\n",
    "plt.stem(n, x)\n",
    "plt.xlabel(\"n\")\n",
    "plt.ylabel(\"h[n]\")\n",
    "plt.title(\" Örnek 7\")\n",
    "\n",
    "plt.subplot(1,2,2)\n",
    "plt.stem(n8, np.squeeze(x8))\n",
    "plt.xlabel(\"n\")\n",
    "plt.ylabel(\"h[n]\")\n",
    "plt.title(\" Örnek 8\")"
   ]
  },
  {
   "cell_type": "markdown",
   "id": "modern-control",
   "metadata": {},
   "source": [
    "## İlgili sistem fonksiyonu incelendiğinde ÖÇ7 ve ÖÇ8'in uyarlanma işleminde bazı farklar bulunmaktadır. Sistem fonksiyonunda z'nin pozitif üstel terimleri bulunduğundan scipy.signal.residuez yerine scipy.signal.residue methodu kullanılmıştır. Sistem fonksiyonunun zero-pole-num-denum değerleri kağıt üzerinde hesaplamalarla bulunarak yazılmıştır. ÖÇ9 uyarlamasında gözlenen eş grafikler zero-pole-num-denum doğru belirlendikçe beklenmektedir. ÖÇ7 bölümünde elde edilen r-p-k değerleri ile el ile hesaplanan değerlerin eşliği bulunduğundan üç durumun doğruluğu ispatlanmıştır. "
   ]
  },
  {
   "cell_type": "markdown",
   "id": "external-typing",
   "metadata": {},
   "source": [
    "# SORU 3"
   ]
  },
  {
   "cell_type": "markdown",
   "id": "statistical-characteristic",
   "metadata": {},
   "source": [
    "# Dürtü cevabının el ile bulunması:\n",
    "##  $ H(z) = \\frac{1 + 3z^{-1} + \\frac{11}{6}z^{-2} + \\frac{1}{3}z^{-3} }{1 + \\frac{5}{6}z^{-1} + \\frac{1}{6}z^{-2} } $ sistem fonksiyonu için en uygun ters z-transform işlemi, sistem fonksiyonunun basit kesirlerine ayrılarak elde edilecektir. İlgili polinom bölmesi yapıldığında H(z) aşağıdaki gibi elde edilir:\n",
    "\n",
    "## $ H(z) = 2z^{-1} + 1 + \\frac{1}{1 + \\frac{1}{3}z^{-1}} + \\frac{1}{1 + \\frac{1}{2}z^{-1}} \\Rightarrow$\n",
    "## $ h[n] = 2 \\delta [n-1] + \\delta [n] + (\\frac{-1}{3})^n u[n] - (\\frac{-1}{2})^n u[n] $ olarak bulunur."
   ]
  },
  {
   "cell_type": "markdown",
   "id": "architectural-indiana",
   "metadata": {},
   "source": [
    "## Ön Çalışma 7 Uyarlaması "
   ]
  },
  {
   "cell_type": "code",
   "execution_count": 117,
   "id": "documentary-allergy",
   "metadata": {},
   "outputs": [
    {
     "name": "stdout",
     "output_type": "stream",
     "text": [
      "[ 0.99937851 -1.0006148 ]\n",
      "[-0.33333333 -0.5       ]\n",
      "[1.00123629 1.99937644]\n"
     ]
    }
   ],
   "source": [
    "z = np.array([-2.251491,(-0.3742-0.089321j),(-0.3742+0.089321j)]) \n",
    "p = np.array([-1/2, -1/3]) # poles of the system\n",
    "b, a = sgnl.zpk2tf(z, p, 1) # since there is no gain k=1\n",
    "b,a\n",
    "\n",
    "# given the coeffs of numerator, i.e. b(z) and the coeffs of denominator a(z),\n",
    "# we do the partial fraction expansion by:\n",
    "r, p, k = sgnl.residuez(b,a) \n",
    "print(r)\n",
    "print(p)\n",
    "print(k)\n",
    "# to check the correctness of the polynomial roots (i.e. p's) we can use\n",
    "poless = np.roots(a)\n"
   ]
  },
  {
   "cell_type": "markdown",
   "id": "coral-miracle",
   "metadata": {},
   "source": [
    "r[0] = 1;\n",
    "r[1] = -1;\n",
    "p[0] = -1/3;\n",
    "p[1] = -1/2;\n",
    "k[0] = 1;\n",
    "k[1] = 2;\n",
    "olarak alınmıştır.\n"
   ]
  },
  {
   "cell_type": "code",
   "execution_count": 118,
   "id": "numeric-formula",
   "metadata": {},
   "outputs": [],
   "source": [
    "def dirac(m):\n",
    "    if m == 0:\n",
    "        return 1\n",
    "    else:\n",
    "        return 0"
   ]
  },
  {
   "cell_type": "code",
   "execution_count": 119,
   "id": "naval-volleyball",
   "metadata": {},
   "outputs": [
    {
     "data": {
      "text/plain": [
       "Text(0.5, 1.0, ' Örnek 7 uyarlama')"
      ]
     },
     "execution_count": 119,
     "metadata": {},
     "output_type": "execute_result"
    },
    {
     "data": {
      "image/png": "[encoded data removed]",
      "text/plain": [
       "<Figure size 432x288 with 1 Axes>"
      ]
     },
     "metadata": {
      "needs_background": "light"
     },
     "output_type": "display_data"
    }
   ],
   "source": [
    "n = np.linspace(0,15,16)\n",
    "x = np.zeros(len(n))\n",
    "\n",
    "for k in range(len(n)):\n",
    "    x[k]=2*dirac(n[k]-1)+dirac(n[k])+(-1)*math.pow(-1/2,(n[k]))*step(n[k]) + (1)*step(n[k])*math.pow(-1/3,(n[k]))\n",
    "plt.figure()\n",
    "plt.stem(n,x)\n",
    "plt.xlabel(\"n\")\n",
    "plt.ylabel(\"h[n]\")\n",
    "plt.title(\" Örnek 7 uyarlama\")\n",
    "#print(x)  "
   ]
  },
  {
   "cell_type": "markdown",
   "id": "communist-graphic",
   "metadata": {},
   "source": [
    "## Ön Çalışma 8 Uyarlaması "
   ]
  },
  {
   "cell_type": "code",
   "execution_count": 120,
   "id": "later-arrangement",
   "metadata": {},
   "outputs": [
    {
     "data": {
      "text/plain": [
       "Text(0.5, 1.0, ' Örnek 8 Uyarlama')"
      ]
     },
     "execution_count": 120,
     "metadata": {},
     "output_type": "execute_result"
    },
    {
     "data": {
      "image/png": "[encoded data removed]",
      "text/plain": [
       "<Figure size 432x288 with 1 Axes>"
      ]
     },
     "metadata": {
      "needs_background": "light"
     },
     "output_type": "display_data"
    }
   ],
   "source": [
    "num = np.array([1,3,11/6,1/3]) \n",
    "denum = np.array([1,5/6,1/6,0]) # coeffs of denum\n",
    "n, x = sgnl.dimpulse((num, denum, 1),x0=0, n=16)\n",
    "plt.figure()\n",
    "plt.stem(n,np.squeeze(x))\n",
    "plt.xlabel(\"n\")\n",
    "plt.ylabel(\"h[n]\")\n",
    "plt.title(\" Örnek 8 Uyarlama\")"
   ]
  },
  {
   "cell_type": "markdown",
   "id": "complicated-minimum",
   "metadata": {},
   "source": [
    "## Ön Çalışma 9 Uyarlaması "
   ]
  },
  {
   "cell_type": "code",
   "execution_count": 121,
   "id": "animated-clause",
   "metadata": {},
   "outputs": [
    {
     "data": {
      "text/plain": [
       "Text(0, 0.5, '$h_{8}[n]$')"
      ]
     },
     "execution_count": 121,
     "metadata": {},
     "output_type": "execute_result"
    },
    {
     "data": {
      "image/png": "[encoded data removed]",
      "text/plain": [
       "<Figure size 432x288 with 2 Axes>"
      ]
     },
     "metadata": {
      "needs_background": "light"
     },
     "output_type": "display_data"
    }
   ],
   "source": [
    "n = np.linspace(0,15,16)\n",
    "x = np.zeros(len(n))\n",
    "\n",
    "for k in range(len(n)):\n",
    "    x[k]=2*dirac(n[k]-1)+dirac(n[k])+(-1)*math.pow(-1/2,(n[k]))*step(n[k]) + (1)*step(n[k])*math.pow(-1/3,(n[k]))\n",
    "\n",
    "num = np.array([1,3,11/6,1/3]) \n",
    "denum = np.array([1,5/6,1/6,0]) # coeffs of denum\n",
    "n8, x8 = sgnl.dimpulse((num, denum, 1),x0=0, n=16)\n",
    "\n",
    "\n",
    "plt.subplot(1,2,1)\n",
    "plt.stem(n, x)\n",
    "plt.ylabel('$h_{7}[n]$')\n",
    "plt.subplot(1,2,2)\n",
    "plt.stem(n8, np.squeeze(x8))\n",
    "plt.ylabel('$h_{8}[n]$')\n"
   ]
  },
  {
   "cell_type": "markdown",
   "id": "nasty-bubble",
   "metadata": {},
   "source": [
    "##  Sistem fonksiyonunun zero-pole-num-denum değerleri kağıt üzerinde hesaplamalarla bulunarak yazılmıştır. ÖÇ9 uyarlamasında gözlenen eş grafikler zero-pole-num-denum doğru belirlendikçe beklenmektedir. ÖÇ7 bölümünde elde edilen r-p-k değerleri ile el ile hesaplanan değerlerin eşliği bulunduğundan üç durumun doğruluğu ispatlanmıştır. "
   ]
  },
  {
   "cell_type": "markdown",
   "id": "another-rover",
   "metadata": {},
   "source": [
    "# SORU 4"
   ]
  },
  {
   "cell_type": "markdown",
   "id": "alternate-dodge",
   "metadata": {},
   "source": [
    "## Ön Çalışma 7 Uyarlaması "
   ]
  },
  {
   "cell_type": "code",
   "execution_count": 55,
   "id": "chubby-energy",
   "metadata": {},
   "outputs": [
    {
     "name": "stdout",
     "output_type": "stream",
     "text": [
      "[-1.90713804+0.j          5.95356902-3.25687583j  5.95356902+3.25687583j]\n",
      "[0.5  +0.j    0.707+0.707j 0.707-0.707j]\n",
      "[]\n"
     ]
    }
   ],
   "source": [
    "z = np.array([0.707]) # a zero @z=0\n",
    "p1 = 1/2\n",
    "p2 = 0.707 + 0.707j\n",
    "p3 = 0.707 - 0.707j\n",
    "p = np.array([p1, p2, p3]) # poles of the system\n",
    "b, a = sgnl.zpk2tf(z, p, 10) # since gain k=10\n",
    "b,a\n",
    "\n",
    "r, p, k = sgnl.residuez(b,a) \n",
    "print(r)\n",
    "print(p)\n",
    "print(k)\n",
    "# to check the correctness of the polynomial roots (i.e. p's) we can use\n",
    "poless = np.roots(a)"
   ]
  },
  {
   "cell_type": "markdown",
   "id": "knowing-button",
   "metadata": {},
   "source": [
    "r[0] = -1.9071;\n",
    "r[1] = 5.9535 - 3.2568j;\n",
    "r[2] = 5.9535 + 3.2568j;\n",
    "p[0] = 1/2;\n",
    "p[1] = 0.707+0.707j;\n",
    "p[2] = 0.707-0.707j;\n",
    "olarak alınmıştır."
   ]
  },
  {
   "cell_type": "code",
   "execution_count": 60,
   "id": "capital-tattoo",
   "metadata": {},
   "outputs": [],
   "source": [
    "def step(m):\n",
    "    if m >= 0:\n",
    "        return 1\n",
    "    else:\n",
    "        return 0"
   ]
  },
  {
   "cell_type": "code",
   "execution_count": 122,
   "id": "continued-insulin",
   "metadata": {},
   "outputs": [
    {
     "name": "stderr",
     "output_type": "stream",
     "text": [
      "E:\\Anaconda\\lib\\site-packages\\ipykernel_launcher.py:7: ComplexWarning: Casting complex values to real discards the imaginary part\n",
      "  import sys\n"
     ]
    },
    {
     "data": {
      "text/plain": [
       "Text(0.5, 1.0, 'Faz')"
      ]
     },
     "execution_count": 122,
     "metadata": {},
     "output_type": "execute_result"
    },
    {
     "data": {
      "image/png": "[encoded data removed]",
      "text/plain": [
       "<Figure size 432x288 with 2 Axes>"
      ]
     },
     "metadata": {
      "needs_background": "light"
     },
     "output_type": "display_data"
    }
   ],
   "source": [
    "n = np.linspace(0,15,16)\n",
    "x = np.zeros(len(n))\n",
    "pi = np.pi\n",
    "exp = np.exp\n",
    "\n",
    "for k in range(len(n)):\n",
    "    x[k]=(5.9535 - 3.2568j)*(exp(1j*pi*n[k]/4))*step(n[k]) + (5.9535 + 3.2568j)*exp(-1j*pi*n[k]/4)*step(n[k]) + (-1.9071)*((math.pow(1/2,n[k]))*step(n[k])) \n",
    "\n",
    "plt.subplot(1,2,1), plt.stem(n, np.abs(x))\n",
    "plt.xlabel(\"n\")\n",
    "plt.ylabel(\"|h[n]|\")\n",
    "plt.title(\" Genlik\")\n",
    "plt.subplot(1,2,2), plt.stem(n, np.angle(x))\n",
    "plt.xlabel(\"n\")\n",
    "plt.ylabel('$\\\\measuredangle h[n]$')\n",
    "plt.title(\"Faz\")\n",
    "\n",
    "#print(x)  "
   ]
  },
  {
   "cell_type": "markdown",
   "id": "competitive-reporter",
   "metadata": {},
   "source": [
    "## Ön Çalışma 8 Uyarlaması "
   ]
  },
  {
   "cell_type": "code",
   "execution_count": 126,
   "id": "opened-locking",
   "metadata": {},
   "outputs": [
    {
     "data": {
      "text/plain": [
       "Text(0.5, 1.0, 'Faz')"
      ]
     },
     "execution_count": 126,
     "metadata": {},
     "output_type": "execute_result"
    },
    {
     "data": {
      "image/png": "[encoded data removed]",
      "text/plain": [
       "<Figure size 432x288 with 2 Axes>"
      ]
     },
     "metadata": {
      "needs_background": "light"
     },
     "output_type": "display_data"
    }
   ],
   "source": [
    "num = np.array([10, -7.071, 0, 0])  #10 7.071\n",
    "denum = np.array([1, -1.914, 1.707, -0.5]) # coeffs of denum\n",
    "n, x = sgnl.dimpulse((num, denum, 1),x0=0, n=16)\n",
    "plt.subplot(1,2,1), plt.stem(n, np.squeeze(np.abs(x)))\n",
    "plt.xlabel(\"n\")\n",
    "plt.ylabel(\"|h[n]|\")\n",
    "plt.title(\" Genlik\")\n",
    "plt.subplot(1,2,2), plt.stem(n, np.squeeze(np.angle(x)))\n",
    "plt.xlabel(\"n\")\n",
    "plt.ylabel('$\\\\measuredangle h[n]$')\n",
    "plt.title(\"Faz\")\n"
   ]
  },
  {
   "cell_type": "markdown",
   "id": "becoming-devon",
   "metadata": {},
   "source": [
    "## Ön Çalışma 9 Uyarlaması "
   ]
  },
  {
   "cell_type": "code",
   "execution_count": 125,
   "id": "continuing-pickup",
   "metadata": {},
   "outputs": [
    {
     "name": "stderr",
     "output_type": "stream",
     "text": [
      "E:\\Anaconda\\lib\\site-packages\\ipykernel_launcher.py:8: ComplexWarning: Casting complex values to real discards the imaginary part\n",
      "  \n"
     ]
    },
    {
     "data": {
      "text/plain": [
       "Text(0, 0.5, '$\\\\measuredangle h[n]$')"
      ]
     },
     "execution_count": 125,
     "metadata": {},
     "output_type": "execute_result"
    },
    {
     "data": {
      "image/png": "[encoded data removed]",
      "text/plain": [
       "<Figure size 432x288 with 4 Axes>"
      ]
     },
     "metadata": {
      "needs_background": "light"
     },
     "output_type": "display_data"
    }
   ],
   "source": [
    "# Örnek 7 \n",
    "n = np.linspace(0,15,16)\n",
    "x = np.zeros(len(n))\n",
    "pi = np.pi\n",
    "exp = np.exp\n",
    "\n",
    "for k in range(len(n)):\n",
    "    x[k]=(5.9535 - 3.2568j)*(exp(1j*pi*n[k]/4))*step(n[k]) + (5.9535 + 3.2568j)*exp(-1j*pi*n[k]/4)*step(n[k]) + (-1.9071)*((math.pow(1/2,n[k]))*step(n[k])) \n",
    "\n",
    "plt.subplot(2,2,1), plt.stem(n, np.abs(x))\n",
    "plt.xlabel(\"n\")\n",
    "plt.ylabel(\"|h[n]|\")\n",
    "plt.title(\" Genlik\")\n",
    "plt.subplot(2,2,2), plt.stem(n, np.angle(x))\n",
    "plt.xlabel(\"n\")\n",
    "plt.ylabel('$\\\\measuredangle h[n]$')\n",
    "plt.title(\"Faz\")\n",
    "\n",
    "\n",
    "# Örnek 8\n",
    "num = np.array([10, -7.071, 0, 0])  #10 7.071\n",
    "denum = np.array([1, -1.914, 1.707, -0.5]) # coeffs of denum\n",
    "n8, x8 = sgnl.dimpulse((num, denum, 1),x0=0, n=16)\n",
    "plt.subplot(2,2,3), plt.stem(n8, np.squeeze(np.abs(x8)))\n",
    "plt.xlabel(\"n\")\n",
    "plt.ylabel(\"|h[n]|\")\n",
    "\n",
    "plt.subplot(2,2,4), plt.stem(n8, np.squeeze(np.angle(x8)))\n",
    "plt.xlabel(\"n\")\n",
    "plt.ylabel('$\\\\measuredangle h[n]$')\n",
    "\n"
   ]
  }
 ],
 "metadata": {
  "kernelspec": {
   "display_name": "Python 3",
   "language": "python",
   "name": "python3"
  },
  "language_info": {
   "codemirror_mode": {
    "name": "ipython",
    "version": 3
   },
   "file_extension": ".py",
   "mimetype": "text/x-python",
   "name": "python",
   "nbconvert_exporter": "python",
   "pygments_lexer": "ipython3",
   "version": "3.7.6"
  }
 },
 "nbformat": 4,
 "nbformat_minor": 5
}
