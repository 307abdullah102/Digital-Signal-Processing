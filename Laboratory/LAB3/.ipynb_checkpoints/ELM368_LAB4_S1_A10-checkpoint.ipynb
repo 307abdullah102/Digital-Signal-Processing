{
 "cells": [
  {
   "cell_type": "code",
   "execution_count": 1,
   "id": "f5e4f24b",
   "metadata": {},
   "outputs": [],
   "source": [
    "\n",
    "# As usual, we begin with importing necessary libraries and functions\n",
    "import numpy as np # for using basic array functions\n",
    "import matplotlib.pyplot as plt # for this example, it may not be necessary\n",
    "# the main package for signal processing is called \"scipy\" and we will use␣,→\"signal\" sub-package\n",
    "import scipy.signal as sgnl\n",
    "from scipy.fftpack import fft, ifft\n",
    "# alternative syntax: from scipy import signal as sgnl\n",
    "#%matplotlib notebook\n",
    "# to read .csv data file\n",
    "from scipy.io import loadmat\n"
   ]
  },
  {
   "cell_type": "code",
   "execution_count": 2,
   "id": "fe74abf6",
   "metadata": {},
   "outputs": [],
   "source": [
    "# coding: utf-8\n",
    "\n",
    "# In[ ]:\n",
    "\n",
    "# Copyright (c) 2020 Hasan Huseyin Sonmez\n",
    "#\n",
    "# The following code implements a pole-zero diagram for discrete-time signal/systems\n",
    "# It has been written to mimic the \"zplane\" function of Mathworks' MATLAB software.\n",
    "# it is aimed as a supplementary tool to be used in\n",
    "# ELM368 Fundamentals of Digital Signal Processing-laboratory course.\n",
    "# Gebze Technical University, Kocaeli, Turkey\n",
    "#\n",
    "# The function parameters are:\n",
    "#     Input:\n",
    "#            b : the numerator coefficients of the discrete-time signal/system\n",
    "#            a : the denominator coefficients of the discrete-time signal/system\n",
    "#\n",
    "\n",
    "\n",
    "# In[29]:\n",
    "\n",
    "# import the necessary libraries\n",
    "\n",
    "\n",
    "\n",
    "def zplane(b,a):\n",
    "\n",
    "\t# Input: numerator and denominator coefficients:\n",
    "\tzeross,poless,k = sgnl.tf2zpk(b, a)\n",
    "\tif not zeross.size:\n",
    "\t\tzeross = np.zeros(len(poless))\n",
    "\t\t\n",
    "\tif not poless.size:\n",
    "\t\tpoless = np.zeros(len(zeross))\n",
    "\n",
    "\ttol = 1e-4\n",
    "\n",
    "\treal_p = np.real(poless).copy()\n",
    "\treal_z = np.real(zeross).copy()\n",
    "\timag_p = np.imag(poless).copy()\n",
    "\timag_z = np.imag(zeross).copy()\n",
    "\n",
    "\tif not real_z.size:\n",
    "\t\treal_z[abs(real_z) < tol] = 0\n",
    "\tif not imag_z.size:\n",
    "\t\timag_z[abs(imag_z) < tol] = 0\n",
    "\tif not real_p.size:\n",
    "\t\treal_p[abs(real_p) < tol] = 0\n",
    "\tif not imag_p.size:\n",
    "\t\timag_p[abs(imag_p) < tol] = 0\n",
    "\n",
    "\tz = np.round(real_z,2) + 1j*np.round(imag_z,2)\n",
    "\tp = np.round(real_p,2) + 1j*np.round(imag_p,2)\n",
    "\n",
    "\t# plot the unit circle\n",
    "\tN = 128\n",
    "\tm = np.arange(0,N,1)\n",
    "\tunitCircle = np.exp(1j*m*2*np.pi/N)\n",
    "\n",
    "\tplt.figure()\n",
    "\tplt.plot(np.real(unitCircle), np.imag(unitCircle), 'b--', linewidth=0.3)\n",
    "\tplt.xlabel('Real Part'), plt.ylabel('Imaginary Part')\n",
    "\n",
    "\t# calculate the plot limits\n",
    "\tCz, z_counts = np.unique(z, return_counts=True)\n",
    "\tCp, p_counts = np.unique(p, return_counts=True)\n",
    "\n",
    "\tzz = [idx1 for idx1, valz in enumerate(z_counts) if valz > 1]\n",
    "\tpp = [idx2 for idx2, valp in enumerate(p_counts) if valp > 1]\n",
    "\tzval = z_counts[zz]\n",
    "\tpval = p_counts[pp]\n",
    "\tzs = Cz[zz]\n",
    "\tps = Cp[pp]\n",
    "\n",
    "\treal_roots = np.concatenate((np.real(p),np.real(z)))\n",
    "\timag_roots = np.concatenate((np.imag(p),np.imag(z)))\n",
    "\n",
    "\t# adjust plot limits\n",
    "\txlower = min(-1, min(real_roots)) - 0.3\n",
    "\txupper = max(1,  max(real_roots)) + 0.3\n",
    "\tylower = min(-1, min(imag_roots)) - 0.3\n",
    "\tyupper = max(1,  max(imag_roots)) + 0.3\n",
    "\tplt.xlim(xlower, xupper), plt.ylim(ylower, yupper)\n",
    "\n",
    "\t# plot axes\n",
    "\tXaxis = np.arange(xlower, xupper, 0.1)\n",
    "\tYaxis = np.arange(ylower, yupper, 0.1)\n",
    "\tplt.plot(np.real(Xaxis), np.imag(Xaxis), 'b--', linewidth=0.3)\n",
    "\tplt.plot(np.imag(Yaxis), np.real(Yaxis), 'b--', linewidth=0.3)\n",
    "\n",
    "\t# plot poles and zeros\n",
    "\tplt.plot(np.real(z), np.imag(z), 'ro',  markerfacecolor = 'none')\n",
    "\tplt.plot(np.real(p), np.imag(p), 'rx')\n",
    "\n",
    "\tif zz:\n",
    "\t\ttxtz = str(zval)[1:-1]\n",
    "\t\tplt.annotate(txtz, xy=(np.real(zs)+0.1,np.imag(zs)+0.1))\n",
    "\t\t\n",
    "\tif pp:\n",
    "\t\ttxtp = str(pval)[1:-1]\n",
    "\t\tplt.annotate(txtp, xy=(np.real(ps)+0.1,np.imag(ps)+0.1))\n",
    "\n",
    "\tplt.grid()\n",
    "\tplt.show()\n",
    "\n",
    "\n",
    "# In[ ]:\n"
   ]
  },
  {
   "cell_type": "markdown",
   "id": "52730e86",
   "metadata": {},
   "source": [
    "# SORU 1 "
   ]
  },
  {
   "cell_type": "markdown",
   "id": "b29a31f6",
   "metadata": {},
   "source": [
    "# A "
   ]
  },
  {
   "cell_type": "code",
   "execution_count": 32,
   "id": "9d638ff7",
   "metadata": {},
   "outputs": [],
   "source": [
    "def dirac(n):\n",
    "    if n==0:\n",
    "        return 1\n",
    "    else:\n",
    "        return 0"
   ]
  },
  {
   "cell_type": "code",
   "execution_count": 33,
   "id": "9111fa40",
   "metadata": {},
   "outputs": [
    {
     "data": {
      "text/plain": [
       "(<StemContainer object of 3 artists>,\n",
       " Text(0, 0.5, 'Phase (rad)'),\n",
       " Text(0.5, 0, 'frequency(w/pi)'))"
      ]
     },
     "execution_count": 33,
     "metadata": {},
     "output_type": "execute_result"
    },
    {
     "data": {
      "image/png": "[encoded data removed]",
      "text/plain": [
       "<Figure size 432x288 with 2 Axes>"
      ]
     },
     "metadata": {
      "needs_background": "light"
     },
     "output_type": "display_data"
    }
   ],
   "source": [
    "hn = [1, -1, 1, -1]\n",
    "N = 40\n",
    "Hw = np.fft.fftshift(fft(hn, N))\n",
    "w = np.linspace(-np.pi, np.pi, N)\n",
    "Hw_mag = abs(Hw)\n",
    "Hw_phs = np.unwrap(np.angle(Hw))\n",
    "fig, (ax1, ax2) = plt.subplots(2)\n",
    "\n",
    "plt.ylabel('Amplitude')\n",
    "ax1.stem(w/np.pi, Hw_mag)\n",
    "ax2.stem(w/np.pi, Hw_phs), plt.ylabel('Phase (rad)'), plt.xlabel('frequency(w/pi)')"
   ]
  },
  {
   "cell_type": "code",
   "execution_count": 34,
   "id": "13454874",
   "metadata": {},
   "outputs": [
    {
     "data": {
      "text/plain": [
       "Text(0, 0.5, 'group delay (samples)')"
      ]
     },
     "execution_count": 34,
     "metadata": {},
     "output_type": "execute_result"
    },
    {
     "data": {
      "image/png": "[encoded data removed]",
      "text/plain": [
       "<Figure size 432x288 with 1 Axes>"
      ]
     },
     "metadata": {
      "needs_background": "light"
     },
     "output_type": "display_data"
    }
   ],
   "source": [
    "tau_w = -np.diff(Hw_phs)*(N/(2*np.pi))\n",
    "plt.figure()\n",
    "plt.stem(w[1::]/np.pi, tau_w)\n",
    "plt.title(\"Group Delay\")\n",
    "plt.xlabel('frequency (w/pi)')\n",
    "plt.ylabel('group delay (samples)')"
   ]
  },
  {
   "cell_type": "markdown",
   "id": "6947acde",
   "metadata": {},
   "source": [
    "## Filtrenin bant geçiren filtre olduğu genlik grafiğinden çıkarımla elde edilmiştir. Belirli merkez frekansı etrafını geçirmektedir. Alt kesim frekansı -pi/2, üst kesim frekansının +pi/2 olduğu görülmektedir. "
   ]
  },
  {
   "cell_type": "markdown",
   "id": "3311c650",
   "metadata": {},
   "source": [
    "# B"
   ]
  },
  {
   "cell_type": "code",
   "execution_count": 14,
   "id": "9ffcb463",
   "metadata": {},
   "outputs": [
    {
     "data": {
      "image/png": "[encoded data removed]",
      "text/plain": [
       "<Figure size 432x288 with 1 Axes>"
      ]
     },
     "metadata": {
      "needs_background": "light"
     },
     "output_type": "display_data"
    }
   ],
   "source": [
    "num = [1, -1, 1, -1]\n",
    "denum = [1, 0, 0, 0]\n",
    "zplane(num,denum)"
   ]
  },
  {
   "cell_type": "markdown",
   "id": "d620b8f1",
   "metadata": {},
   "source": [
    "## Bant geçiren filtre karakteristiği zero ve pole'lerden görülmektedir. (-pi, -pi/2) ve (pi/2,pi) bantlarında geçirme, aksi durumda sönümleme gerçekleşir. Bu yüzden xn sinyalinden dirac harici değerlerin geçmesi beklenir. \n",
    "\n",
    "## Bu sebepten xn = 2*np.cos(0.5*np.pi*n[i] + np.pi/4) + 3*np.sin((np.pi/3)*n[i] - np.pi/6) olduğu görülür."
   ]
  },
  {
   "cell_type": "markdown",
   "id": "6ec3c401",
   "metadata": {},
   "source": [
    "# C"
   ]
  },
  {
   "cell_type": "code",
   "execution_count": 41,
   "id": "485c2db5",
   "metadata": {},
   "outputs": [
    {
     "data": {
      "text/plain": [
       "(<StemContainer object of 3 artists>, None)"
      ]
     },
     "execution_count": 41,
     "metadata": {},
     "output_type": "execute_result"
    },
    {
     "data": {
      "image/png": "[encoded data removed]",
      "text/plain": [
       "<Figure size 432x288 with 1 Axes>"
      ]
     },
     "metadata": {
      "needs_background": "light"
     },
     "output_type": "display_data"
    }
   ],
   "source": [
    "n = np.arange(0,40)\n",
    "xn = np.zeros(len(n))\n",
    "for i in range(len(n)):\n",
    "    xn[i] = 2*np.cos(0.5*np.pi*n[i] + np.pi/4) + 3*np.sin((np.pi/3)*n[i] - np.pi/6)\n",
    "plt.stem(n, xn), ax1.title.set_text('input signal')"
   ]
  },
  {
   "cell_type": "markdown",
   "id": "2cf6325d",
   "metadata": {},
   "source": [
    "# D"
   ]
  },
  {
   "cell_type": "code",
   "execution_count": 38,
   "id": "eeb8efa6",
   "metadata": {},
   "outputs": [],
   "source": [
    "n = np.arange(0,40)\n",
    "xn = np.zeros(len(n))\n",
    "for i in range(len(n)):\n",
    "    xn[i] = 5 + 4*dirac(n[i]) + 2*np.cos(0.5*np.pi*n[i] + np.pi/4) + 3*np.sin((np.pi/3)*n[i] - np.pi/6)\n"
   ]
  },
  {
   "cell_type": "code",
   "execution_count": 31,
   "id": "7a001eda",
   "metadata": {},
   "outputs": [
    {
     "data": {
      "text/plain": [
       "(<StemContainer object of 3 artists>,\n",
       " Text(0, 0.5, 'Phase (rad)'),\n",
       " Text(0.5, 0, 'frequency rad/,→sample'))"
      ]
     },
     "execution_count": 31,
     "metadata": {},
     "output_type": "execute_result"
    },
    {
     "data": {
      "image/png": "[encoded data removed]",
      "text/plain": [
       "<Figure size 432x288 with 2 Axes>"
      ]
     },
     "metadata": {
      "needs_background": "light"
     },
     "output_type": "display_data"
    }
   ],
   "source": [
    "\n",
    "Xw = np.fft.fftshift(fft(xn, N))\n",
    "w = np.linspace(-np.pi, np.pi, N)\n",
    "Xw_mag = abs(Xw)\n",
    "Xw_phs = np.unwrap(np.angle(Hw))\n",
    "fig, (ax1, ax2) = plt.subplots(2)\n",
    "\n",
    "plt.ylabel('Amplitude')\n",
    "ax1.stem(w/np.pi, Xw_mag)\n",
    "ax2.stem(w/np.pi, Xw_phs), plt.ylabel('Phase (rad)'), plt.xlabel('frequency rad/,→sample')"
   ]
  },
  {
   "cell_type": "code",
   "execution_count": 28,
   "id": "acb5fb65",
   "metadata": {},
   "outputs": [
    {
     "data": {
      "text/plain": [
       "(<StemContainer object of 3 artists>, None)"
      ]
     },
     "execution_count": 28,
     "metadata": {},
     "output_type": "execute_result"
    },
    {
     "data": {
      "image/png": "[encoded data removed]",
      "text/plain": [
       "<Figure size 432x288 with 2 Axes>"
      ]
     },
     "metadata": {
      "needs_background": "light"
     },
     "output_type": "display_data"
    }
   ],
   "source": [
    "Yw_shifted = Hw * Xw # compute the fft of the output signal\n",
    "Yw = np.fft.ifftshift(Yw_shifted) # we shifted back to the 0-2*pi interval\n",
    "yn = np.real(ifft(Yw))\n",
    "\n",
    "fig, (ax1, ax2) = plt.subplots(2)\n",
    "ax1.stem(n, xn), ax1.title.set_text('input signal')\n",
    "ax2.stem(n, yn), ax2.title.set_text('output signal')"
   ]
  }
 ],
 "metadata": {
  "kernelspec": {
   "display_name": "Python 3",
   "language": "python",
   "name": "python3"
  },
  "language_info": {
   "codemirror_mode": {
    "name": "ipython",
    "version": 3
   },
   "file_extension": ".py",
   "mimetype": "text/x-python",
   "name": "python",
   "nbconvert_exporter": "python",
   "pygments_lexer": "ipython3",
   "version": "3.7.6"
  }
 },
 "nbformat": 4,
 "nbformat_minor": 5
}
