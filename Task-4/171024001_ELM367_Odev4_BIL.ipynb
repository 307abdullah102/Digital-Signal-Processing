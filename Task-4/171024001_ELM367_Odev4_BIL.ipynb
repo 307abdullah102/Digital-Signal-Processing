{
 "cells": [
  {
   "cell_type": "markdown",
   "id": "complimentary-warrant",
   "metadata": {},
   "source": [
    "# İsim Soyisim: Abdullah MEMİŞOĞLU\n",
    "# Öğrenci Numarası: 171024001"
   ]
  },
  {
   "cell_type": "markdown",
   "id": "geographic-casino",
   "metadata": {},
   "source": [
    "\n",
    "# ÖDEV-4 -- SORU-6\n",
    "\n",
    "## a) 2.33 Sistemin dürtü cevabını bulma"
   ]
  },
  {
   "cell_type": "code",
   "execution_count": 1,
   "id": "loose-prize",
   "metadata": {},
   "outputs": [],
   "source": [
    "import numpy as np\n",
    "import matplotlib.pyplot as plt "
   ]
  },
  {
   "cell_type": "code",
   "execution_count": 6,
   "id": "martial-kazakhstan",
   "metadata": {},
   "outputs": [],
   "source": [
    "def dirac(n):\n",
    "    if n == 0:\n",
    "        return 1\n",
    "    else:\n",
    "        return 0\n",
    "#for i in range(-8,8,1):\n",
    "#    print(\"{}:{}\".format(i,dirac(i)))"
   ]
  },
  {
   "cell_type": "markdown",
   "id": "needed-lingerie",
   "metadata": {},
   "source": [
    "## $y[n] = -2x[n] + 4x[n-1] - 2x[n-2]$ eq.1\n",
    "## Sisteme $ \\delta[n] $ girdi olarak verilirse sistemin çıkışında dürtü yanıtı elde edilir. Bu bilgi kullanılarak eq.1 denkleminde x  girdi sinyalleri  $ \\delta[n] $ olarak yazıldığında y[n] = h[n] ile dürtü yanıtı elde edilir. \n",
    "\n",
    "##  $h[n] = -2\\delta[n] + 4\\delta[n-1] - 2\\delta[n-2]$"
   ]
  },
  {
   "cell_type": "code",
   "execution_count": 20,
   "id": "pointed-crack",
   "metadata": {},
   "outputs": [
    {
     "data": {
      "text/plain": [
       "Text(0, 0.5, 'h[n]')"
      ]
     },
     "execution_count": 20,
     "metadata": {},
     "output_type": "execute_result"
    },
    {
     "data": {
      "image/png": "[encoded data removed]",
      "text/plain": [
       "<Figure size 432x288 with 1 Axes>"
      ]
     },
     "metadata": {
      "needs_background": "light"
     },
     "output_type": "display_data"
    }
   ],
   "source": [
    "def imp_resp(n):\n",
    "    h = -2*dirac(n) + 4*dirac(n-1) - 2*dirac(n - 2)\n",
    "    return h\n",
    "\n",
    "\n",
    "START = -3\n",
    "END = 5\n",
    "\n",
    "n = np.linspace(START,END,(END - START + 1))\n",
    "h = np.zeros(len(n))\n",
    "\n",
    "for i in range(len(n)):\n",
    "    h[i] = imp_resp(i + START) \n",
    "    # first i value = 0 but it should be -8 because of the n interval\n",
    "plt.stem(n,h,use_line_collection=True)\n",
    "plt.title('Impulse Response', fontsize='20') \n",
    "plt.xticks(np.arange(n[0],n[-1],1))\n",
    "plt.xlabel('n',  fontsize='20')  \n",
    "plt.ylabel('h[n]',  fontsize='20') \n",
    "\n",
    "#for i in range(-8,8,1):\n",
    "#    print(\"{}:{}\".format(i,imp_resp(i)))"
   ]
  },
  {
   "cell_type": "markdown",
   "id": "centered-motel",
   "metadata": {},
   "source": [
    "\n",
    "# ÖDEV-4 -- SORU-7\n",
    "\n",
    "## a) 2.36 Sistemin frekans cevabını çizdirme"
   ]
  },
  {
   "cell_type": "code",
   "execution_count": 27,
   "id": "continuing-mobility",
   "metadata": {},
   "outputs": [
    {
     "data": {
      "text/plain": [
       "Text(0.5, 0, 'w(x$\\\\pi$)')"
      ]
     },
     "execution_count": 27,
     "metadata": {},
     "output_type": "execute_result"
    },
    {
     "data": {
      "image/png": "[encoded data removed]",
      "text/plain": [
       "<Figure size 432x288 with 2 Axes>"
      ]
     },
     "metadata": {
      "needs_background": "light"
     },
     "output_type": "display_data"
    }
   ],
   "source": [
    "w_cont=np.linspace(0,2*np.pi,100)\n",
    "\n",
    "H_phase=np.zeros(100)\n",
    "H_abs=np.zeros(100)\n",
    "i = 0\n",
    "for w in w_cont:\n",
    "    \n",
    "    #H_abs[i]=np.abs(1 - np.exp(-1j*w))\n",
    "    #H_phase[i] = np.angle(1 - np.exp(-1j*w))\n",
    "    H_abs[i] = np.abs((1 + np.exp(-1j*2*w))/(1 - 0.8*np.exp(-1j*w)))\n",
    "    H_phase[i] = np.angle((1 + np.exp(-1j*2*w))/(1 - 0.8*np.exp(-1j*w)))\n",
    "    i+=1\n",
    "\n",
    "plt.subplot(121)\n",
    "plt.plot(w_cont/np.pi,H_abs)\n",
    "plt.title('$|H(e^{j\\omega})|$')\n",
    "plt.xlabel('w(x$\\pi$)')\n",
    "plt.subplot(122)\n",
    "plt.plot(w_cont/np.pi,H_phase/pi) \n",
    "plt.title('$ \\measuredangle H(e^{j\\omega})$')\n",
    "plt.xlabel('w(x$\\pi$)')\n",
    "\n"
   ]
  },
  {
   "cell_type": "markdown",
   "id": "documented-lending",
   "metadata": {},
   "source": [
    "## Bu soruda özfonksiyon tanımı kullanabilmek için verilen x[n] sinyali aşağıdaki gibi yazılmalıdır.\n",
    "## $ x[n] = 4 + 2cos(\\omega_0n) = 4e^{j0} + 2cos(\\omega_0n) $\n",
    "# İkinci kısımda 2 adet özfonksiyondan oluşan bir yapı olduğundan y[n] sinyali direkt olarak aşağıdaki gibi yazılabilmektedir.\n",
    "# $ y[n] = 4H(e^{j0}) + 2|H(e^{j\\omega_0})|[cos(\\omega_0n + \\measuredangle H(e^{j\\omega_0}))]$ \n",
    "# Yukarıdaki y[n] sinyalinin sabit değer alması +'dan sonraki değerin sıfırlanmasına bağlıdır. Bu değerin sıfırlanması ise $ |H(e^{j\\omega_0})| = 0 $ ile mümkündür. Bu eşitliğin sağlandığı değerler($|H(e^{j\\omega_0})|$ grafiğini sıfır yapan noktalara bakılarak) $ \\omega_0 =\\frac{\\pi}{2} \\space ve \\space \\omega_0 =\\frac{3\\pi}{2}$ olarak elde edilir. Bu durumda $ \\omega_0 =\\frac{\\pi}{2}$ için y[n] sinyali değeri aşağıdaki gibi hesaplanır."
   ]
  },
  {
   "cell_type": "code",
   "execution_count": 36,
   "id": "altered-study",
   "metadata": {},
   "outputs": [
    {
     "name": "stdout",
     "output_type": "stream",
     "text": [
      "(40.00000000000001+0j)\n",
      "40.00000000000001\n"
     ]
    },
    {
     "data": {
      "text/plain": [
       "'y eşitliğinde kompleks sayılar ile işlem yapıldığından sonuç kompleks gösterimlidir. Ancak görüldüğü üzere ilgili w noktasında y[n] sinyali sabit değer alır ve y[n] = A için A = 40 değeri gözlenir'"
      ]
     },
     "execution_count": 36,
     "metadata": {},
     "output_type": "execute_result"
    }
   ],
   "source": [
    "pi = np.pi\n",
    "def freq_resp(w):\n",
    "    H = (1 + np.exp(-1j*2*w))/(1 - 0.8*np.exp(-1j*w))\n",
    "    return H\n",
    "def freq_resp_amp(w):\n",
    "    H = np.abs((1 + np.exp(-1j*2*w))/(1 - 0.8*np.exp(-1j*w)))\n",
    "    return H\n",
    "def freq_resp_phase(w):\n",
    "    H = np.angle((1 + np.exp(-1j*2*w))/(1 - 0.8*np.exp(-1j*w)))\n",
    "    return H\n",
    "\n",
    "y = 4*freq_resp(0) + 2*freq_resp_amp(pi/2)*np.cos(pi/2 + freq_resp_phase(pi/2))\n",
    "print(y)\n",
    "print(np.abs(y))\n",
    "\"\"\"y eşitliğinde kompleks sayılar ile işlem yapıldığından sonuç kompleks gösterimlidir. Ancak görüldüğü üzere ilgili w noktasında y[n] sinyali sabit değer alır ve y[n] = A için A = 40 değeri gözlenir\"\"\"\n"
   ]
  }
 ],
 "metadata": {
  "kernelspec": {
   "display_name": "Python 3",
   "language": "python",
   "name": "python3"
  },
  "language_info": {
   "codemirror_mode": {
    "name": "ipython",
    "version": 3
   },
   "file_extension": ".py",
   "mimetype": "text/x-python",
   "name": "python",
   "nbconvert_exporter": "python",
   "pygments_lexer": "ipython3",
   "version": "3.7.6"
  }
 },
 "nbformat": 4,
 "nbformat_minor": 5
}
